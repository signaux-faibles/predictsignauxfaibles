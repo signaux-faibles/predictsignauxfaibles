{
 "cells": [
  {
   "cell_type": "markdown",
   "id": "mental-deployment",
   "metadata": {},
   "source": [
    "# Automated Post-integration Report - Signaux Faibles\n",
    "This notebook can be run after each new data integration by the [opensignauxfaibles](https://github.com/signaux-faibles/opensignauxfaibles) codebase."
   ]
  },
  {
   "cell_type": "code",
   "execution_count": null,
   "id": "stock-shame",
   "metadata": {},
   "outputs": [],
   "source": [
    "VARIABLES = [\n",
    "    \"financier_court_terme\",\n",
    "    \"interets\",\n",
    "    \"ca\",\n",
    "    \"equilibre_financier\",\n",
    "    \"endettement\",\n",
    "    \"degre_immo_corporelle\",\n",
    "    \"liquidite_reduite\",\n",
    "    \"poids_bfr_exploitation\",\n",
    "    \"productivite_capital_investi\",\n",
    "    \"rentabilite_economique\",\n",
    "    \"rentabilite_nette\",\n",
    "    \"cotisation\",\n",
    "    \"cotisation_moy12m\",\n",
    "    \"montant_part_ouvriere\",\n",
    "    \"montant_part_ouvriere_past_1\",\n",
    "    \"montant_part_ouvriere_past_12\",\n",
    "    \"montant_part_ouvriere_past_2\",\n",
    "    \"montant_part_ouvriere_past_3\",\n",
    "    \"montant_part_ouvriere_past_6\",\n",
    "    \"montant_part_patronale\",\n",
    "    \"montant_part_patronale_past_1\",\n",
    "    \"montant_part_patronale_past_12\",\n",
    "    \"montant_part_patronale_past_2\",\n",
    "    \"montant_part_patronale_past_3\",\n",
    "    \"montant_part_patronale_past_6\",\n",
    "    \"ratio_dette\",\n",
    "    \"ratio_dette_moy12m\",\n",
    "    \"effectif\",\n",
    "    \"apart_heures_consommees_cumulees\",\n",
    "    \"apart_heures_consommees\",\n",
    "    \"paydex_nb_jours\",\n",
    "    \"paydex_nb_jours_past_12\",\n",
    "]\n",
    "# ces variables sont toujours requêtées\n",
    "VARIABLES += [\"outcome\", \"periode\", \"siret\", \"siren\", \"time_til_outcome\", \"code_naf\"]"
   ]
  },
  {
   "cell_type": "markdown",
   "id": "adjustable-arkansas",
   "metadata": {},
   "source": [
    "## Fetch a random sample of the data"
   ]
  },
  {
   "cell_type": "code",
   "execution_count": null,
   "id": "false-shield",
   "metadata": {},
   "outputs": [],
   "source": [
    "%config Completer.use_jedi = False\n",
    "import pandas as pd"
   ]
  },
  {
   "cell_type": "code",
   "execution_count": null,
   "id": "formed-salvation",
   "metadata": {},
   "outputs": [],
   "source": [
    "from predictsignauxfaibles.data import SFDataset"
   ]
  },
  {
   "cell_type": "code",
   "execution_count": null,
   "id": "suspended-london",
   "metadata": {},
   "outputs": [],
   "source": [
    "dataset = SFDataset(\n",
    "    fields = VARIABLES,\n",
    "    sample_size=10_000\n",
    ")\n",
    "dataset.fetch_data();"
   ]
  },
  {
   "cell_type": "markdown",
   "id": "pediatric-drama",
   "metadata": {},
   "source": [
    "## Temporal Coverage and NA values"
   ]
  },
  {
   "cell_type": "code",
   "execution_count": null,
   "id": "theoretical-density",
   "metadata": {},
   "outputs": [],
   "source": [
    "dataset.data.periode = pd.to_datetime(dataset.data.periode)"
   ]
  },
  {
   "cell_type": "code",
   "execution_count": null,
   "id": "promotional-heritage",
   "metadata": {},
   "outputs": [],
   "source": [
    "date_range = dataset.data.periode.min().date(), dataset.data.periode.max().date()\n",
    "print(f\"Data goes from {date_range[0]} to {date_range[1]}\")"
   ]
  },
  {
   "cell_type": "code",
   "execution_count": null,
   "id": "included-industry",
   "metadata": {},
   "outputs": [],
   "source": [
    "na_rates_df = (dataset.data.isna().sum() / len(dataset) * 100).sort_values(ascending = False).to_frame()\n",
    "na_rates_df.columns = [\"NA rate\"]\n",
    "na_rates_df"
   ]
  },
  {
   "cell_type": "markdown",
   "id": "logical-bailey",
   "metadata": {},
   "source": [
    "## Coverage over time for selected variables"
   ]
  },
  {
   "cell_type": "code",
   "execution_count": null,
   "id": "fiscal-samoa",
   "metadata": {},
   "outputs": [],
   "source": [
    "import matplotlib.pyplot as plt\n",
    "%matplotlib inline"
   ]
  },
  {
   "cell_type": "code",
   "execution_count": null,
   "id": "handled-tuning",
   "metadata": {},
   "outputs": [],
   "source": [
    "def count_na_prop(series):\n",
    "    return (1 - series.isna().sum() / len(series)) * 100\n",
    "\n",
    "\n",
    "fig, axs = plt.subplots(len(VARIABLES), figsize=(10, 100))\n",
    "fig.tight_layout()\n",
    "for i, variable in enumerate(VARIABLES):\n",
    "    grouped = dataset.data.groupby(pd.Grouper(key=\"periode\", freq=\"M\")).agg({f\"{variable}\": count_na_prop})\n",
    "    axs[i].set_title(f\"{variable}\")\n",
    "    axs[i].set_ylim([0, 100])\n",
    "    axs[i].plot_date(grouped.index, grouped[f\"{variable}\"], \"-\");\n",
    "    axs[i].set(adjustable='box')"
   ]
  },
  {
   "cell_type": "code",
   "execution_count": null,
   "id": "critical-category",
   "metadata": {},
   "outputs": [],
   "source": []
  },
  {
   "cell_type": "code",
   "execution_count": null,
   "id": "super-arabic",
   "metadata": {},
   "outputs": [],
   "source": []
  },
  {
   "cell_type": "code",
   "execution_count": null,
   "id": "desperate-button",
   "metadata": {},
   "outputs": [],
   "source": []
  }
 ],
 "metadata": {
  "kernelspec": {
   "display_name": "Python 3",
   "language": "python",
   "name": "python3"
  },
  "language_info": {
   "codemirror_mode": {
    "name": "ipython",
    "version": 3
   },
   "file_extension": ".py",
   "mimetype": "text/x-python",
   "name": "python",
   "nbconvert_exporter": "python",
   "pygments_lexer": "ipython3",
   "version": "3.6.8"
  }
 },
 "nbformat": 4,
 "nbformat_minor": 5
}
