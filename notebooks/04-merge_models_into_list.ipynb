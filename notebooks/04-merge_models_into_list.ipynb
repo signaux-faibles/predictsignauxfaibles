{
 "cells": [
  {
   "cell_type": "markdown",
   "id": "static-place",
   "metadata": {},
   "source": [
    "Producing lists out of prediction files\n",
    "===\n",
    "This notebooks aims to produce lists as JSON file with each entry containing fields:\n",
    "- siret\n",
    "- periode\n",
    "- score\n",
    "- timestamp\n",
    "- algo\n",
    "- alert\n",
    "\n",
    "It takes as inputs a set of CSV prediction files produced by `predictsignauxfaibles`, typically:\n",
    "- one file corresponding to the \"default\" model\n",
    "- one file corresponding to the \"small\" model"
   ]
  },
  {
   "cell_type": "code",
   "execution_count": null,
   "id": "alive-telephone",
   "metadata": {},
   "outputs": [],
   "source": [
    "%config Completer.use_jedi = False"
   ]
  },
  {
   "cell_type": "code",
   "execution_count": null,
   "id": "enormous-slovenia",
   "metadata": {},
   "outputs": [],
   "source": [
    "# Set logging level to INFO\n",
    "from collections import namedtuple\n",
    "import logging\n",
    "logging.getLogger().setLevel(logging.INFO)\n",
    "\n",
    "# Import required libraries and modules\n",
    "from datetime import datetime\n",
    "import pandas as pd\n",
    "from pathlib import Path\n",
    "import json\n",
    "\n",
    "from predictsignauxfaibles.config import OUTPUT_FOLDER\n",
    "from predictsignauxfaibles.merge_models import merge_models\n",
    "from predictsignauxfaibles.utils import assign_flag, log_splits_size"
   ]
  },
  {
   "cell_type": "code",
   "execution_count": null,
   "id": "manual-estonia",
   "metadata": {},
   "outputs": [],
   "source": [
    "# Imported only for debugging, to be removed\n",
    "from matplotlib import pyplot as plt\n",
    "import numpy as np"
   ]
  },
  {
   "cell_type": "markdown",
   "id": "exposed-bernard",
   "metadata": {},
   "source": [
    "## Loading CSV predictions from last run of \"default\" and \"small\" models"
   ]
  },
  {
   "cell_type": "code",
   "execution_count": null,
   "id": "violent-enhancement",
   "metadata": {},
   "outputs": [],
   "source": [
    "default = pd.read_csv(\"/home/simon.lebastard/predictsignauxfaibles/predictsignauxfaibles/model_runs/default_20210531-165745/predictions.csv\")\n",
    "small = pd.read_csv(\"/home/simon.lebastard/predictsignauxfaibles/predictsignauxfaibles/model_runs/small_20210531-180946/predictions.csv\")"
   ]
  },
  {
   "cell_type": "markdown",
   "id": "underlying-tsunami",
   "metadata": {},
   "source": [
    "## Making alert flag\n",
    "Using thredsholds selected through precision/recall curve.\n",
    "Note that the default behaviour in our CLI will be to select thredsholds through $f_{\\beta}$ score maximisation"
   ]
  },
  {
   "cell_type": "code",
   "execution_count": null,
   "id": "consolidated-course",
   "metadata": {},
   "outputs": [],
   "source": [
    "default[\"alert\"] = default[\"predicted_probability\"].apply(\n",
    "    lambda x: assign_flag(x, t_rouge=0.903, t_orange=0.134)\n",
    ")"
   ]
  },
  {
   "cell_type": "code",
   "execution_count": null,
   "id": "threatened-fault",
   "metadata": {},
   "outputs": [],
   "source": [
    "small[\"alert\"] = small[\"predicted_probability\"].apply(\n",
    "    lambda x: assign_flag(x, t_rouge=0.683, t_orange=0.127)\n",
    ")"
   ]
  },
  {
   "cell_type": "markdown",
   "id": "equipped-manitoba",
   "metadata": {},
   "source": [
    "(((( Debugging"
   ]
  },
  {
   "cell_type": "code",
   "execution_count": null,
   "id": "rural-march",
   "metadata": {},
   "outputs": [],
   "source": [
    "default"
   ]
  },
  {
   "cell_type": "code",
   "execution_count": null,
   "id": "accepted-delhi",
   "metadata": {},
   "outputs": [],
   "source": [
    "plt.scatter(\n",
    "    np.arange(0,len(default.expl_selection)),\n",
    "    default.expl_selection.isnull(),\n",
    ")"
   ]
  },
  {
   "cell_type": "code",
   "execution_count": null,
   "id": "acute-marble",
   "metadata": {},
   "outputs": [],
   "source": [
    "small"
   ]
  },
  {
   "cell_type": "code",
   "execution_count": null,
   "id": "marine-patent",
   "metadata": {},
   "outputs": [],
   "source": [
    "plt.scatter(\n",
    "    np.arange(0,len(small.expl_selection)),\n",
    "    small.expl_selection.isnull(),\n",
    ")"
   ]
  },
  {
   "cell_type": "markdown",
   "id": "incoming-manitoba",
   "metadata": {},
   "source": [
    "))))"
   ]
  },
  {
   "cell_type": "markdown",
   "id": "short-cancellation",
   "metadata": {},
   "source": [
    "## Merging the two model predictions\n",
    "\n",
    "Model \"default\" has priority over \"small\""
   ]
  },
  {
   "cell_type": "code",
   "execution_count": null,
   "id": "eligible-partnership",
   "metadata": {},
   "outputs": [],
   "source": [
    "ModelPreds = namedtuple(\"ModelPreds\", [\"name\", \"predictions\"])\n",
    "\n",
    "model_list = [\n",
    "    ModelPreds(\"default\", default),\n",
    "    ModelPreds(\"small\", small),\n",
    "]"
   ]
  },
  {
   "cell_type": "code",
   "execution_count": null,
   "id": "brilliant-geography",
   "metadata": {},
   "outputs": [],
   "source": [
    "merged = merge_models(\n",
    "    model_list,\n",
    "    cols_to_merge=[\n",
    "        \"alert\",\n",
    "        \"predicted_probability\",\n",
    "        \"expl_selection\",\n",
    "        \"macro_expl\",\n",
    "        \"micro_expl\",\n",
    "        \"macro_radar\",\n",
    "    ]\n",
    ")"
   ]
  },
  {
   "cell_type": "markdown",
   "id": "taken-lunch",
   "metadata": {},
   "source": [
    "(((( Quality control"
   ]
  },
  {
   "cell_type": "code",
   "execution_count": null,
   "id": "persistent-temperature",
   "metadata": {},
   "outputs": [],
   "source": [
    "merged"
   ]
  },
  {
   "cell_type": "code",
   "execution_count": null,
   "id": "empty-success",
   "metadata": {},
   "outputs": [],
   "source": [
    "plt.scatter(\n",
    "    np.arange(0,len(merged.alert)),\n",
    "    merged.alert.isnull(),\n",
    ")"
   ]
  },
  {
   "cell_type": "code",
   "execution_count": null,
   "id": "painted-radar",
   "metadata": {},
   "outputs": [],
   "source": [
    "merged.groupby(by=\"which_model\").siret.count()"
   ]
  },
  {
   "cell_type": "code",
   "execution_count": null,
   "id": "incorporate-chassis",
   "metadata": {},
   "outputs": [],
   "source": [
    "plt.scatter(\n",
    "    np.arange(0,len(merged.expl_selection)),\n",
    "    merged.expl_selection.isnull(),\n",
    ")"
   ]
  },
  {
   "cell_type": "code",
   "execution_count": null,
   "id": "floppy-floating",
   "metadata": {},
   "outputs": [],
   "source": [
    "100*merged.groupby(by=\"alert\").siret.count()/len(merged)"
   ]
  },
  {
   "cell_type": "markdown",
   "id": "furnished-hanging",
   "metadata": {},
   "source": [
    "))))"
   ]
  },
  {
   "cell_type": "markdown",
   "id": "designing-beatles",
   "metadata": {},
   "source": [
    "## Applying Redressement a posteriori"
   ]
  },
  {
   "cell_type": "code",
   "execution_count": null,
   "id": "particular-sheriff",
   "metadata": {},
   "outputs": [],
   "source": [
    "from predictsignauxfaibles.pipelines import REDRESSEMENTS_PIPELINE, run_pipeline"
   ]
  },
  {
   "cell_type": "markdown",
   "id": "directed-judgment",
   "metadata": {},
   "source": [
    "## Fetching datasets necessary to apply redressements"
   ]
  },
  {
   "cell_type": "code",
   "execution_count": null,
   "id": "british-voluntary",
   "metadata": {},
   "outputs": [],
   "source": [
    "REDR_FEATURES = [\n",
    "    \"siret\",\n",
    "    \"siren\",\n",
    "    \"periode\",\n",
    "    \"code_naf\",\n",
    "    \"cotisation_moy12m\",\n",
    "    \"ratio_dette\",\n",
    "    \"ratio_dette_moy12m\",\n",
    "    \"tag_debit\",\n",
    "    \"tag_default\",\n",
    "    \"cotisation\",\n",
    "    \"montant_part_ouvriere\",\n",
    "    \"montant_part_patronale\",\n",
    "    \"delai_nb_jours_total\",\n",
    "    \"delai_montant_echeancier\",\n",
    "    \"delai_nb_jours_restants\",\n",
    "]\n",
    "\n",
    "july_2020 = SFDataset(\n",
    "    date_min=\"2020-07-01\",\n",
    "    date_max=\"2020-07-31\",\n",
    "    fields = REDR_FEATURES,\n",
    "    sample_size = 1_000_000\n",
    ")\n",
    "\n",
    "july_2020 = SFDataset(\n",
    "    date_min=\"2021-01-01\",\n",
    "    date_max=\"2021-01-31\",\n",
    "    fields = REDR_FEATURES,\n",
    "    sample_size = 1_000_000\n",
    ")"
   ]
  },
  {
   "cell_type": "code",
   "execution_count": null,
   "id": "recognized-router",
   "metadata": {},
   "outputs": [],
   "source": [
    "READ_FROM = \"csv\"\n",
    "\n",
    "if READ_FROM == \"csv\":\n",
    "    july_2020 = pd.read_csv(\"/home/common/july_2020.csv\")\n",
    "    jan_2021 = pd.read_csv(\"/home/common/jan_2021.csv\")\n",
    "if READ_FROM == \"mongo\":\n",
    "    july_2020.fetch_data()\n",
    "    jan_2021.fetch_data()"
   ]
  },
  {
   "cell_type": "code",
   "execution_count": null,
   "id": "sufficient-madison",
   "metadata": {},
   "outputs": [],
   "source": [
    "jan_2021.set_index(\"siret\", inplace = True)\n",
    "july_2020.set_index(\"siret\", inplace = True)\n",
    "merged.set_index(\"siret\", inplace = True)"
   ]
  },
  {
   "cell_type": "markdown",
   "id": "atlantic-attempt",
   "metadata": {},
   "source": [
    "### Joining merged with the datasets for Redressements"
   ]
  },
  {
   "cell_type": "code",
   "execution_count": null,
   "id": "growing-martial",
   "metadata": {},
   "outputs": [],
   "source": [
    "merged_redr = merged.join(july_2020, rsuffix=\"_july2020\")\n",
    "merged_redr = merged_redr.join(jan_2021, lsuffix = \"_july2020\", rsuffix=\"_latest\")"
   ]
  },
  {
   "cell_type": "markdown",
   "id": "special-disease",
   "metadata": {},
   "source": [
    "(((( Quality control: did we loose SIRETS along the way?"
   ]
  },
  {
   "cell_type": "code",
   "execution_count": null,
   "id": "reasonable-binary",
   "metadata": {},
   "outputs": [],
   "source": []
  },
  {
   "cell_type": "markdown",
   "id": "covered-behavior",
   "metadata": {},
   "source": [
    "))))"
   ]
  },
  {
   "cell_type": "code",
   "execution_count": null,
   "id": "scientific-practitioner",
   "metadata": {},
   "outputs": [],
   "source": [
    "merged_redr = run_pipeline(merged_redr, REDRESSEMENTS_PIPELINE)"
   ]
  },
  {
   "cell_type": "code",
   "execution_count": null,
   "id": "digital-specific",
   "metadata": {},
   "outputs": [],
   "source": [
    "merged_redr.sample(n=3)"
   ]
  },
  {
   "cell_type": "code",
   "execution_count": null,
   "id": "burning-private",
   "metadata": {},
   "outputs": [],
   "source": [
    "# Filtering fields that we want\n"
   ]
  },
  {
   "cell_type": "markdown",
   "id": "fifteen-genre",
   "metadata": {},
   "source": [
    "Preparing a new dummy list\n",
    "---\n",
    "From what was output by the succesful run of `python3 -m predictsignauxfaibles` using the new function explain, let's produce a list that we can communicate to the front-end team.\n",
    "\n",
    "Collection `Scores` on MongoDB needs to receive that looks like this:\n",
    "```\n",
    "{\n",
    "    \"siret\": \"12345678901234\",\n",
    "    \"periode\": \"2019-01-01\",\n",
    "    \"score\": 0.996714234,\n",
    "    \"batch\": \"1904\",\n",
    "    \"timestamp\": 2019-01-01T14:56:58.418+00:00,\n",
    "    \"algo\": \"algo_avec_urssaf\",\n",
    "    \"alert\" :\"Alerte seuil F1\"\n",
    "}\n",
    "```"
   ]
  },
  {
   "cell_type": "code",
   "execution_count": null,
   "id": "other-theme",
   "metadata": {},
   "outputs": [],
   "source": [
    "merged_redr[\"periode\"] = \"2021-06-01\"\n",
    "merged_redr[\"batch\"] = \"<BATCH_NAME>\"\n",
    "merged_redr[\"algo\"] = \"default\""
   ]
  },
  {
   "cell_type": "code",
   "execution_count": null,
   "id": "talented-tourism",
   "metadata": {},
   "outputs": [],
   "source": [
    "merged_redr"
   ]
  },
  {
   "cell_type": "code",
   "execution_count": null,
   "id": "automated-facility",
   "metadata": {},
   "outputs": [],
   "source": [
    "list_id = datetime.now().strftime(\"%Y%m%d-%H%M%S\")\n",
    "run_path = Path(OUTPUT_FOLDER) / f\"{list_id}\"\n",
    "run_path.mkdir(parents=True, exist_ok=True)\n",
    "\n",
    "with open(run_path / \"scores.json\", \"w\") as stats_file:\n",
    "    stats_file.write(json.dumps(merged.to_json()))"
   ]
  },
  {
   "cell_type": "markdown",
   "id": "bibliographic-poster",
   "metadata": {},
   "source": [
    "Alternative method:"
   ]
  },
  {
   "cell_type": "code",
   "execution_count": null,
   "id": "objective-thomson",
   "metadata": {},
   "outputs": [],
   "source": [
    "pred_dict = merged.to_dict('records')"
   ]
  },
  {
   "cell_type": "code",
   "execution_count": null,
   "id": "prospective-settle",
   "metadata": {},
   "outputs": [],
   "source": [
    "import json\n",
    "\n",
    "js = json.dumps(pred_dict) #allow_nan=False\n",
    "with open(\"/home/simon.lebastard/predictsignauxfaibles/data/explain/scores_export_test.json\", \"w\", encoding=\"utf-8\") as file:\n",
    "    file.write(js)"
   ]
  }
 ],
 "metadata": {
  "kernelspec": {
   "display_name": "Python 3",
   "language": "python",
   "name": "python3"
  },
  "language_info": {
   "codemirror_mode": {
    "name": "ipython",
    "version": 3
   },
   "file_extension": ".py",
   "mimetype": "text/x-python",
   "name": "python",
   "nbconvert_exporter": "python",
   "pygments_lexer": "ipython3",
   "version": "3.6.8"
  }
 },
 "nbformat": 4,
 "nbformat_minor": 5
}
