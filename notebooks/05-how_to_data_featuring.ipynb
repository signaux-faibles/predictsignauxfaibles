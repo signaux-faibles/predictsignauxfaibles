{
 "cells": [
  {
   "cell_type": "markdown",
   "id": "legislative-bridal",
   "metadata": {},
   "source": [
    "# How to test various featurings"
   ]
  },
  {
   "cell_type": "code",
   "execution_count": null,
   "id": "dutch-heavy",
   "metadata": {},
   "outputs": [],
   "source": [
    "import json\n",
    "from predictsignauxfaibles.preprocessors import get_featuring, apply_log, apply_sqrt"
   ]
  },
  {
   "cell_type": "markdown",
   "id": "worst-cambodia",
   "metadata": {},
   "source": [
    "# 1. List of features\n",
    "It is possible to create an array of variable names but also to use the file variables.json with the command as follows (by filling the `port`):\n",
    "\n",
    "```\n",
    "curl --proxy socks5h://localhost:<port> -OL https://raw.githubusercontent.com/signaux-faibles/opensignauxfaibles/master/js/reduce.algo2/docs/variables.json -o variables.json\n",
    "```"
   ]
  },
  {
   "cell_type": "code",
   "execution_count": null,
   "id": "altered-bicycle",
   "metadata": {},
   "outputs": [],
   "source": [
    "with open(\"output/data/variables.json\", 'r', encoding = 'utf-8') as f:\n",
    "    variables = json.load(f)\n",
    "\n",
    "features = list(set([x['name'] for x in variables]) - set(\"outcome\"))"
   ]
  },
  {
   "cell_type": "markdown",
   "id": "looking-reply",
   "metadata": {},
   "source": [
    "# 2. Exploration of relevant featuring\n",
    "For each variable taken separately, the function `get_featuring` provide the optimal transformation for a single variable to explain the variable `outcome` in a simple LogisticModel. These transformations still need to be tested in the SF model afterwards."
   ]
  },
  {
   "cell_type": "code",
   "execution_count": null,
   "id": "compact-jurisdiction",
   "metadata": {},
   "outputs": [],
   "source": [
    "res = get_featuring(features, [apply_log, apply_sqrt])\n",
    "res"
   ]
  }
 ],
 "metadata": {
  "kernelspec": {
   "display_name": "Python 3",
   "language": "python",
   "name": "python3"
  },
  "language_info": {
   "codemirror_mode": {
    "name": "ipython",
    "version": 3
   },
   "file_extension": ".py",
   "mimetype": "text/x-python",
   "name": "python",
   "nbconvert_exporter": "python",
   "pygments_lexer": "ipython3",
   "version": "3.6.8"
  }
 },
 "nbformat": 4,
 "nbformat_minor": 5
}
