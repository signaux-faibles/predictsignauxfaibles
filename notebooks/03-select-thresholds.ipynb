{
 "cells": [
  {
   "cell_type": "markdown",
   "id": "owned-binding",
   "metadata": {},
   "source": [
    "# Model evaluation - Optimal thresholding on default probas\n",
    "In this notebook, we use a LogReg trained on 1M SIRETs, evaluated on 250k SIRETs.<br>\n",
    "We compute $f_{\\beta}$ scores, balanced accuracy and select thresholds optimally."
   ]
  },
  {
   "cell_type": "code",
   "execution_count": null,
   "id": "premier-memorial",
   "metadata": {},
   "outputs": [],
   "source": [
    "%config Completer.use_jedi = False"
   ]
  },
  {
   "cell_type": "code",
   "execution_count": null,
   "id": "organic-residence",
   "metadata": {},
   "outputs": [],
   "source": [
    "# Set logging level to INFO\n",
    "import logging\n",
    "logging.getLogger().setLevel(logging.INFO)\n",
    "\n",
    "# Import required libraries and modules\n",
    "from datetime import datetime\n",
    "from pathlib import Path\n",
    "import pickle\n",
    "import json\n",
    "from types import ModuleType\n",
    "\n",
    "from matplotlib import pyplot as plt\n",
    "import numpy as np\n",
    "import pandas as pd\n",
    "from sklearn.metrics import precision_recall_curve, fbeta_score, average_precision_score\n",
    "from sklearn.pipeline import Pipeline\n",
    "from sklearn_pandas import DataFrameMapper\n",
    "\n",
    "from predictsignauxfaibles.config import IGNORE_NA\n",
    "from predictsignauxfaibles.data import SFDataset\n",
    "from predictsignauxfaibles.evaluate import evaluate, make_precision_recall_curve, make_thresholds_from_fbeta, make_thresholds_from_conditions\n",
    "from predictsignauxfaibles.merge_models import merge_models\n",
    "from predictsignauxfaibles.pipelines import run_pipeline\n",
    "from predictsignauxfaibles.utils import assign_flag, load_conf, log_splits_size"
   ]
  },
  {
   "cell_type": "markdown",
   "id": "seeing-diving",
   "metadata": {},
   "source": [
    "### Loading predictions from csv, splitting models"
   ]
  },
  {
   "cell_type": "code",
   "execution_count": null,
   "id": "polar-ceremony",
   "metadata": {},
   "outputs": [],
   "source": [
    "## LOADING MODELS FROM FILES\n",
    "\n",
    "model_runs = {\n",
    "    \"default\": \"/home/simon.lebastard/predictsignauxfaibles/predictsignauxfaibles/model_runs/default_20210531-165745\",\n",
    "    \"small\": \"/home/simon.lebastard/predictsignauxfaibles/predictsignauxfaibles/model_runs/small_20210531-180946\"\n",
    "}\n",
    "\n",
    "## DEFAULT MODEL PIPELINE\n",
    "\n",
    "default = pd.read_csv(f\"{model_runs['default']}/predictions.csv\")\n",
    "default_mapper_unpickled =  pickle.load(\n",
    "    open( f\"{model_runs['default']}/model_comp0.pickle\",\n",
    "        \"rb\"\n",
    "        )\n",
    ")\n",
    "default_mapper = default_mapper_unpickled[1]\n",
    "default_model_unpickled = pickle.load(\n",
    "    open( f\"{model_runs['default']}/model_comp1.pickle\",\n",
    "        \"rb\"\n",
    "        )\n",
    ")\n",
    "default_model = default_model_unpickled[1]\n",
    "\n",
    "default_pp = Pipeline(\n",
    "    [(\"transform_dataframe\", default_mapper), (\"fit_model\", default_model)]\n",
    ")\n",
    "\n",
    "## SMALL MODEL PIPELINE\n",
    "\n",
    "small = pd.read_csv(f\"{model_runs['small']}/predictions.csv\")\n",
    "small_mapper_unpickled = pickle.load(\n",
    "    open( f\"{model_runs['small']}/model_comp0.pickle\",\n",
    "        \"rb\"\n",
    "        )\n",
    ")\n",
    "small_mapper = small_mapper_unpickled[1]\n",
    "small_model_unpickled = pickle.load(\n",
    "    open( f\"{model_runs['small']}/model_comp1.pickle\",\n",
    "        \"rb\"\n",
    "        )\n",
    ")\n",
    "small_model = small_model_unpickled[1]\n",
    "\n",
    "small_pp = Pipeline(\n",
    "    [(\"transform_dataframe\", small_mapper), (\"fit_model\", small_model)]\n",
    ")"
   ]
  },
  {
   "cell_type": "markdown",
   "id": "developmental-client",
   "metadata": {},
   "source": [
    "A couple of quicks checks/diagnoses:"
   ]
  },
  {
   "cell_type": "code",
   "execution_count": null,
   "id": "capital-trinidad",
   "metadata": {},
   "outputs": [],
   "source": [
    "default.shape"
   ]
  },
  {
   "cell_type": "code",
   "execution_count": null,
   "id": "light-baptist",
   "metadata": {},
   "outputs": [],
   "source": [
    "small.shape"
   ]
  },
  {
   "cell_type": "markdown",
   "id": "seasonal-scottish",
   "metadata": {},
   "source": [
    "## Choosing model to select thresholds on"
   ]
  },
  {
   "cell_type": "code",
   "execution_count": null,
   "id": "educated-landscape",
   "metadata": {},
   "outputs": [],
   "source": [
    "conf = load_conf(model_name=\"default\")\n",
    "\n",
    "pp = default_pp\n",
    "mapper = default_mapper\n",
    "model = default_model\n",
    "\n",
    "test = default_conf.TEST_DATASET\n",
    "test.sample_size = 2.5e5"
   ]
  },
  {
   "cell_type": "code",
   "execution_count": null,
   "id": "furnished-humidity",
   "metadata": {},
   "outputs": [],
   "source": [
    "#test.fetch_data()\n",
    "test.data = pd.read_csv(\"/home/common/benchmark/052021_full_data_test.csv\")"
   ]
  },
  {
   "cell_type": "markdown",
   "id": "collectible-updating",
   "metadata": {},
   "source": [
    "## Threshold selection for default model"
   ]
  },
  {
   "cell_type": "code",
   "execution_count": null,
   "id": "possible-haiti",
   "metadata": {},
   "outputs": [],
   "source": [
    "test.replace_missing_data().remove_na(ignore=IGNORE_NA)\n",
    "test.data = run_pipeline(test.data, conf.TRANSFO_PIPELINE)"
   ]
  },
  {
   "cell_type": "markdown",
   "id": "dirty-heating",
   "metadata": {},
   "source": [
    "Isolating transformed features on one hand, outcomes on the other:"
   ]
  },
  {
   "cell_type": "code",
   "execution_count": null,
   "id": "underlying-shock",
   "metadata": {},
   "outputs": [],
   "source": [
    "test_features_unmapped = test.data[set(test.data.columns).difference(set([\"outcome\"]))]\n",
    "test_outcomes = test.data[\"outcome\"].astype(int).to_numpy()\n",
    "test_features = mapper.transform(test_features_unmapped)"
   ]
  },
  {
   "cell_type": "code",
   "execution_count": null,
   "id": "latter-coaching",
   "metadata": {},
   "outputs": [],
   "source": [
    "test.data.columns"
   ]
  },
  {
   "cell_type": "code",
   "execution_count": null,
   "id": "cordless-custody",
   "metadata": {},
   "outputs": [],
   "source": [
    "test.data.sample(n=3)"
   ]
  },
  {
   "cell_type": "code",
   "execution_count": null,
   "id": "given-class",
   "metadata": {},
   "outputs": [],
   "source": [
    "100*test.data.groupby(by=\"outcome\").siret.count()/len(test)"
   ]
  },
  {
   "cell_type": "markdown",
   "id": "characteristic-nowhere",
   "metadata": {},
   "source": [
    "### Computing precision/recall graph as a function of classification thresholds - Default model"
   ]
  },
  {
   "cell_type": "markdown",
   "id": "potential-peeing",
   "metadata": {},
   "source": [
    "Let's load a test set from which we can use the output to measure our performance"
   ]
  },
  {
   "cell_type": "code",
   "execution_count": null,
   "id": "cordless-series",
   "metadata": {},
   "outputs": [],
   "source": [
    "precision, recall, thresh = make_precision_recall_curve(\n",
    "    test,\n",
    "    pp\n",
    ")"
   ]
  },
  {
   "cell_type": "markdown",
   "id": "comic-sydney",
   "metadata": {},
   "source": [
    "### Computing AUCPR\n",
    "Computing the Area Under Curve fopr Precision-Recall curve (AUCPR), a metric which summarizes the potential of the model itself, without specifying the hyperparameter tuning that must be led to weight the relative importance of  precision and recall."
   ]
  },
  {
   "cell_type": "code",
   "execution_count": null,
   "id": "announced-questionnaire",
   "metadata": {},
   "outputs": [],
   "source": [
    "aucpr = average_precision_score(test_outcomes, model.predict_proba(test_features)[:, 1])"
   ]
  },
  {
   "cell_type": "code",
   "execution_count": null,
   "id": "varied-delaware",
   "metadata": {},
   "outputs": [],
   "source": [
    "print(\n",
    "    \"Area under Precision-Recall curve: {0:.3f}\".format(aucpr)\n",
    ")"
   ]
  },
  {
   "cell_type": "markdown",
   "id": "virgin-daniel",
   "metadata": {},
   "source": [
    "### Option 1: Determine the thresholds by hand, looking at the Type2-Type1 errors plot"
   ]
  },
  {
   "cell_type": "code",
   "execution_count": null,
   "id": "operational-chapel",
   "metadata": {},
   "outputs": [],
   "source": [
    "fig, ax = plt.subplots(figsize=(10,10))\n",
    "\n",
    "type_2 = 1 - recall\n",
    "type_1 = 1 - precision\n",
    "\n",
    "ax.scatter(\n",
    "    type_1,\n",
    "    type_2,\n",
    "    label = \"logreg\"\n",
    ");\n",
    "\n",
    "selected_F1_T1error = 0.09\n",
    "selected_F1_precision = 1 - selected_F1_T1error\n",
    "\n",
    "selected_F2_T2error = 0.415\n",
    "selected_F2_recall = 1 - selected_F2_T2error\n",
    "\n",
    "plt.axhline(y=selected_F2_T2error, color='orange', linestyle='-')\n",
    "plt.axvline(x=selected_F1_T1error, color='red', linestyle='-')\n",
    "\n",
    "ax.set_xlabel('Type 1 error', fontsize=16)\n",
    "ax.set_ylabel('Type 2 error', fontsize=16)\n",
    "\n",
    "ax.legend(fontsize=18);"
   ]
  },
  {
   "cell_type": "markdown",
   "id": "efficient-recording",
   "metadata": {},
   "source": [
    "On peut sélectionner un seuil F1 (rouge) et un seuil F2 (orange) à partir de cette courbe:\n",
    "- pour la liste F1, on cherche à maximiser la précision, puisqe la liste en question doit être la plus pertinent possible et contenir des entreprises \"prioritaires\". Cette liste minimise donc les faux positifs, favorise la précision et minimise donc l'erreur de type 1.\n",
    "- la liste F2 doit se charger de minimiser les faux négatifs, et est donc plus orienter sur la maximisation du recall. Il s'agit ici de minimiser l'erreur de type 2.\n",
    "\n",
    "Pour $t_{F1}$, on choisit une valeur qui donne une erreur de type 1 petite tout en étant la plus indulgente possible pour l'erreur de type 2. C'est typiquement ce qu'un point de courbure maximale va réaliser. Ici $t_{F1}=0.07$ semble assez satisfaisant (ligne verticale rouge ci-dessus).\n",
    "\n",
    "Pour $t_{F2}$, on choisir au contraire une valeur de courbe (négative) minimale, tout en satisfaisant déjà une erreur de type 2 suffisament faible. Ici $t_{F2}=0.37$ semble assez satisfaisant (ligne horizontale orange ci-dessus)."
   ]
  },
  {
   "cell_type": "code",
   "execution_count": null,
   "id": "suspended-hamburg",
   "metadata": {},
   "outputs": [],
   "source": [
    "(t_F1_cond, t_F2_cond) = make_thresholds_from_conditions(\n",
    "    precision,\n",
    "    recall,\n",
    "    thresh,\n",
    "    min_precision_F1 = selected_F1_precision,\n",
    "    min_recall_F2 = selected_F2_recall,\n",
    ")"
   ]
  },
  {
   "cell_type": "markdown",
   "id": "demographic-viewer",
   "metadata": {},
   "source": [
    "Sur le dataset de test chargé depuis /home/simon.lebastard/predictsignauxfaibles/data/prod_mars2021/2103_prod_data_test.csv (250k):<br>\n",
    "F1 - $t_{F1}=0.904$ garantit une précision de 91% pour la liste F1 (rouge)<br>\n",
    "F2 - $t_{F2}=0.134$ garantit un recall de 58.5% pour la liste F2 (orange)"
   ]
  },
  {
   "cell_type": "code",
   "execution_count": null,
   "id": "unusual-orlando",
   "metadata": {},
   "outputs": [],
   "source": [
    "log_splits_size(\n",
    "    model.predict_proba(test_features)[:, 1],\n",
    "    t_rouge=t_F1_cond,\n",
    "    t_orange=t_F2_cond,\n",
    ")"
   ]
  },
  {
   "cell_type": "markdown",
   "id": "desirable-trash",
   "metadata": {},
   "source": [
    "### Option 2: Select thresholds by maximising a f-beta (with beta specified for each alert level)"
   ]
  },
  {
   "cell_type": "code",
   "execution_count": null,
   "id": "assured-cement",
   "metadata": {},
   "outputs": [],
   "source": [
    "(t_F1_fb, t_F2_fb) = make_thresholds_from_fbeta(\n",
    "    test_features,\n",
    "    test_outcomes,\n",
    "    model,\n",
    "    beta_F1 = 0.5,\n",
    "    beta_F2 = 2,\n",
    "    n_thr = 1000\n",
    ")"
   ]
  },
  {
   "cell_type": "markdown",
   "id": "academic-length",
   "metadata": {},
   "source": [
    "Sur le dataset de test chargé depuis /home/simon.lebastard/predictsignauxfaibles/data/prod_mars2021/2103_prod_data_test.csv (250k):<br>\n",
    "F1 - $\\beta=0.5$ - Optimal threshold: $t_{F1}=0.868$ - $f_{0.5}=0.672$<br>\n",
    "F2 - $\\beta=2$ - Optimal threshold: $t_{F2}=0.183$ - $f_{2}=0.495$"
   ]
  },
  {
   "cell_type": "code",
   "execution_count": null,
   "id": "handy-upper",
   "metadata": {},
   "outputs": [],
   "source": [
    "evaluate(\n",
    "    pp,\n",
    "    test,\n",
    "    beta=2,\n",
    "    thresh=0.18\n",
    ")"
   ]
  },
  {
   "cell_type": "code",
   "execution_count": null,
   "id": "senior-clearance",
   "metadata": {},
   "outputs": [],
   "source": [
    "log_splits_size(\n",
    "    model.predict_proba(test_features)[:, 1],\n",
    "    t_rouge=t_F1_fb,\n",
    "    t_orange=t_F2_fb,\n",
    ")"
   ]
  },
  {
   "cell_type": "markdown",
   "id": "large-evans",
   "metadata": {},
   "source": [
    "## To go further - Can we build a threshold selection criterion based on the variations of recall % threhold?"
   ]
  },
  {
   "cell_type": "code",
   "execution_count": null,
   "id": "extra-thunder",
   "metadata": {},
   "outputs": [],
   "source": [
    "# Let's compute the first-order derivative of the type-2 error\n",
    "fod_recall = (recall[:-1] - np.roll(recall[:-1],1))/(thresh - np.roll(thresh,1))\n",
    "fod_recall = fod_recall[1:]"
   ]
  },
  {
   "cell_type": "code",
   "execution_count": null,
   "id": "suspended-school",
   "metadata": {},
   "outputs": [],
   "source": [
    "plt.hist(fod_recall)"
   ]
  },
  {
   "cell_type": "code",
   "execution_count": null,
   "id": "steady-browse",
   "metadata": {},
   "outputs": [],
   "source": [
    "plt.plot(thresh)"
   ]
  },
  {
   "cell_type": "code",
   "execution_count": null,
   "id": "blocked-leonard",
   "metadata": {},
   "outputs": [],
   "source": [
    "fig, ax = plt.subplots(figsize=(10,10))\n",
    "\n",
    "ax.scatter(\n",
    "    thresh[:-81],\n",
    "    fod_recall[:-80],\n",
    "    label = \"logreg\"\n",
    ");"
   ]
  },
  {
   "cell_type": "code",
   "execution_count": null,
   "id": "varied-douglas",
   "metadata": {},
   "outputs": [],
   "source": [
    "recalL_maxvar_id = np.argmin(fod_recall[:-80])\n",
    "recall_maxvar = fod_recall[recalL_maxvar_id]\n",
    "\n",
    "recall_maxvar_precision = precision[recalL_maxvar_id]\n",
    "recall_maxvar_recall = recall[recalL_maxvar_id]\n",
    "recall_maxvar_thresh = thresh[recalL_maxvar_id]"
   ]
  },
  {
   "cell_type": "code",
   "execution_count": null,
   "id": "outer-commodity",
   "metadata": {},
   "outputs": [],
   "source": [
    "recall_maxvar_thresh"
   ]
  },
  {
   "cell_type": "code",
   "execution_count": null,
   "id": "intellectual-corruption",
   "metadata": {},
   "outputs": [],
   "source": [
    "recall_maxvar_recall"
   ]
  },
  {
   "cell_type": "code",
   "execution_count": null,
   "id": "terminal-destination",
   "metadata": {},
   "outputs": [],
   "source": [
    "recall_maxvar_precision"
   ]
  },
  {
   "cell_type": "markdown",
   "id": "dependent-denial",
   "metadata": {},
   "source": [
    "For now, we'll stick to manual selection based on the two types of error above, or maybe based on the maximisation of Fbeta"
   ]
  }
 ],
 "metadata": {
  "kernelspec": {
   "display_name": "Python 3",
   "language": "python",
   "name": "python3"
  },
  "language_info": {
   "codemirror_mode": {
    "name": "ipython",
    "version": 3
   },
   "file_extension": ".py",
   "mimetype": "text/x-python",
   "name": "python",
   "nbconvert_exporter": "python",
   "pygments_lexer": "ipython3",
   "version": "3.6.8"
  }
 },
 "nbformat": 4,
 "nbformat_minor": 5
}
