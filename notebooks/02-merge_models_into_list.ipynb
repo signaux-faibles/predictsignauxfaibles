{
 "cells": [
  {
   "cell_type": "markdown",
   "id": "abstract-arrest",
   "metadata": {},
   "source": [
    "Producing lists out of prediction files\n",
    "===\n",
    "This notebooks aims to produce lists as JSON file with each entry containing fields:\n",
    "- siret\n",
    "- periode\n",
    "- score\n",
    "- timestamp\n",
    "- algo\n",
    "- alert\n",
    "\n",
    "It takes as inputs a set of CSV prediction files produced by `predictsignauxfaibles`, typically:\n",
    "- one file corresponding to the \"default\" model\n",
    "- one file corresponding to the \"small\" model"
   ]
  },
  {
   "cell_type": "code",
   "execution_count": null,
   "id": "hawaiian-lawrence",
   "metadata": {},
   "outputs": [],
   "source": [
    "%config Completer.use_jedi = False"
   ]
  },
  {
   "cell_type": "code",
   "execution_count": null,
   "id": "injured-spending",
   "metadata": {},
   "outputs": [],
   "source": [
    "# Set logging level to INFO\n",
    "import logging\n",
    "logging.getLogger().setLevel(logging.INFO)\n",
    "\n",
    "# Import required libraries and modules\n",
    "from datetime import datetime\n",
    "import pandas as pd\n",
    "from pathlib import Path\n",
    "import json\n",
    "\n",
    "from predictsignauxfaibles.config import OUTPUT_FOLDER"
   ]
  },
  {
   "cell_type": "markdown",
   "id": "controversial-geneva",
   "metadata": {},
   "source": [
    "Functions to make the alert flag"
   ]
  },
  {
   "cell_type": "code",
   "execution_count": null,
   "id": "regular-survey",
   "metadata": {},
   "outputs": [],
   "source": [
    "from predictsignauxfaibles.make_list import merge_models, assign_flag, make_alert"
   ]
  },
  {
   "cell_type": "markdown",
   "id": "viral-characteristic",
   "metadata": {},
   "source": [
    "Let's load CSV data produced by a run with the default model and a run with the small model:"
   ]
  },
  {
   "cell_type": "code",
   "execution_count": null,
   "id": "intellectual-lobby",
   "metadata": {},
   "outputs": [],
   "source": [
    "default = pd.read_csv(\"/home/simon.lebastard/predictsignauxfaibles/predictsignauxfaibles/model_runs/20210507-195755/predictions-20210507-195755.csv\")\n",
    "small = pd.read_csv(\"/home/simon.lebastard/predictsignauxfaibles/predictsignauxfaibles/model_runs/20210507-195735/predictions-20210507-195735.csv\")"
   ]
  },
  {
   "cell_type": "code",
   "execution_count": null,
   "id": "vulnerable-terror",
   "metadata": {},
   "outputs": [],
   "source": [
    "merged = merge_models(model_list = [default, small])"
   ]
  },
  {
   "cell_type": "code",
   "execution_count": null,
   "id": "single-scene",
   "metadata": {},
   "outputs": [],
   "source": [
    "merged = make_alert(merged, t_rouge= 0.75, t_orange = 0.3)"
   ]
  },
  {
   "cell_type": "code",
   "execution_count": null,
   "id": "cleared-joshua",
   "metadata": {},
   "outputs": [],
   "source": [
    "merged"
   ]
  },
  {
   "cell_type": "code",
   "execution_count": null,
   "id": "postal-investing",
   "metadata": {},
   "outputs": [],
   "source": [
    "list_id = datetime.now().strftime(\"%Y%m%d-%H%M%S\")\n",
    "run_path = Path(OUTPUT_FOLDER) / f\"{list_id}\"\n",
    "run_path.mkdir(parents=True, exist_ok=True)\n",
    "\n",
    "with open(run_path / \"scores.json\", \"w\") as stats_file:\n",
    "    stats_file.write(json.dumps(merged.to_json()))"
   ]
  },
  {
   "cell_type": "code",
   "execution_count": null,
   "id": "labeled-planning",
   "metadata": {},
   "outputs": [],
   "source": [
    "run_path"
   ]
  }
 ],
 "metadata": {
  "kernelspec": {
   "display_name": "Python 3",
   "language": "python",
   "name": "python3"
  },
  "language_info": {
   "codemirror_mode": {
    "name": "ipython",
    "version": 3
   },
   "file_extension": ".py",
   "mimetype": "text/x-python",
   "name": "python",
   "nbconvert_exporter": "python",
   "pygments_lexer": "ipython3",
   "version": "3.6.8"
  }
 },
 "nbformat": 4,
 "nbformat_minor": 5
}
