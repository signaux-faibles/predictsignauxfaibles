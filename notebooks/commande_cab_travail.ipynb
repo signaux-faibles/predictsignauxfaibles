{
 "cells": [
  {
   "cell_type": "code",
   "execution_count": null,
   "metadata": {},
   "outputs": [],
   "source": [
    "%config Completer.use_jedi = False"
   ]
  },
  {
   "cell_type": "code",
   "execution_count": null,
   "metadata": {},
   "outputs": [],
   "source": [
    "from pymongo import MongoClient\n",
    "from pymongo.cursor import Cursor\n",
    "\n",
    "import pandas as pd\n",
    "from datetime import datetime\n",
    "\n",
    "from predictsignauxfaibles.utils import MongoDBQuery, MongoParams\n",
    "import predictsignauxfaibles.config as config\n",
    "import pytz"
   ]
  },
  {
   "cell_type": "code",
   "execution_count": null,
   "metadata": {},
   "outputs": [],
   "source": [
    "date_min = \"2020-02-01\"\n",
    "date_max = \"2020-02-28\"\n",
    "\n",
    "def date_to_iso(date: str):\n",
    "        \"\"\"\n",
    "        Converts a date in the YYYY-MM-DD format into a\n",
    "        datetime usable by mongodb\"\n",
    "        \"\"\"\n",
    "        return pytz.utc.localize(datetime.strptime(date, \"%Y-%m-%d\"))"
   ]
  },
  {
   "cell_type": "markdown",
   "metadata": {},
   "source": [
    "## Fetching features and scores data"
   ]
  },
  {
   "cell_type": "code",
   "execution_count": null,
   "metadata": {},
   "outputs": [],
   "source": [
    "features_mongo = MongoClient(host = \"mongodb://labbdd\").get_database(\"prod\").get_collection(\"Features\")\n",
    "\n",
    "match_stage = {\n",
    "    \"$match\": {\n",
    "        \"$and\": [\n",
    "            {\n",
    "                \"_id.periode\": {\n",
    "                    \"$gte\": date_to_iso(date_min),\n",
    "                    \"$lt\": date_to_iso(date_max),\n",
    "                    },\n",
    "                \"_id.batch\": \"2103_0_urssaf\"\n",
    "            },\n",
    "            #{\"value.effectif\": {\"$gte\": min_effectif}},\n",
    "        ]\n",
    "    }\n",
    "}\n",
    "\n",
    "project_stage = {\n",
    "    \"$project\": {field: 1 for field in [\"_id.siret\", \"_id.periode\", \"value.effectif\", \"value.outcome\", \"value.code_commune\", \"value.departement\", \"value.region\", \"value.code_ape\", \"value.age\", \"value.code_naf\", \"value.effectif_entreprise\"]}\n",
    "}\n",
    "pipeline = [match_stage, project_stage]\n",
    "\n",
    "features_cursor = features_mongo.aggregate(pipeline)"
   ]
  },
  {
   "cell_type": "code",
   "execution_count": null,
   "metadata": {},
   "outputs": [],
   "source": [
    "features = pd.DataFrame(features_cursor)\n",
    "features.to_json(\"/home/simon.lebastard/predictsignauxfaibles/data/features_2103.json\", orient=\"records\")"
   ]
  },
  {
   "cell_type": "code",
   "execution_count": null,
   "metadata": {},
   "outputs": [],
   "source": [
    "feature_ids = features[\"_id\"].apply(pd.Series)\n",
    "features_values = features[\"value\"].apply(pd.Series)\n",
    "features = pd.concat([feature_ids, features_values], axis=1)\n"
   ]
  },
  {
   "cell_type": "code",
   "execution_count": null,
   "metadata": {},
   "outputs": [],
   "source": [
    "features.sample(n=5)"
   ]
  },
  {
   "cell_type": "code",
   "execution_count": null,
   "metadata": {},
   "outputs": [],
   "source": [
    "scores_mongo = MongoClient(host = \"mongodb://labbdd\").get_database(\"prod\").get_collection(\"Scores\")\n",
    "scores_cursor = scores_mongo.find({\"algo\": \"mars2021_v0\"})\n",
    "scores = pd.DataFrame(scores_cursor)"
   ]
  },
  {
   "cell_type": "code",
   "execution_count": null,
   "metadata": {},
   "outputs": [],
   "source": [
    "scores.periode = scores.periode.apply(date_to_iso)"
   ]
  },
  {
   "cell_type": "code",
   "execution_count": null,
   "metadata": {},
   "outputs": [],
   "source": [
    "scores.periode = scores.periode.apply(date_to_iso)"
   ]
  },
  {
   "cell_type": "code",
   "execution_count": null,
   "metadata": {},
   "outputs": [],
   "source": [
    "scores.dtypes"
   ]
  },
  {
   "cell_type": "code",
   "execution_count": null,
   "metadata": {},
   "outputs": [],
   "source": [
    "df = pd.merge(scores, features, on=['siret', 'periode'], how='inner') #join may be empty because scores.periode is a string (format \"2014-01-01\") and features.periode is of type Date (2014-01-01T00:00:00.000+00:00)"
   ]
  },
  {
   "cell_type": "code",
   "execution_count": null,
   "metadata": {},
   "outputs": [],
   "source": [
    "df.sample(n=5)"
   ]
  },
  {
   "cell_type": "markdown",
   "metadata": {},
   "source": [
    "## Aggregation of region-wide features\n",
    "\n",
    "Niveaux de granularité considérés:\n",
    "- région\n",
    "- département\n",
    "\n",
    "Pour chaque niveau de granularité:\n",
    "- compter le nombre d'entreprises flaguées rouge par région\n",
    "- compter le nombre d'entreprises flaguées orange par région\n",
    "- calculer les ratio correspondants\n",
    "- [BONUS: A NE PAS COMMUNIQUER] produire un score de risque moyen par région\n",
    "- compter le nombre de défaillances effectives sur une période donnée, et calculer le ratio correspondants\n",
    "\n",
    "Pour toutes les grandeurs calculées précédemment, calculer des équivalents en nombre d'employés concernés\n",
    "\n",
    "En bonus: calculer des indicateurs de contribution des chaques 4 macrovariables du modèle"
   ]
  },
  {
   "cell_type": "code",
   "execution_count": null,
   "metadata": {},
   "outputs": [],
   "source": [
    "df_by_region = df.groupby(by=\"region\").count()"
   ]
  },
  {
   "cell_type": "markdown",
   "metadata": {},
   "source": [
    "Pour récuperer les coefficients du modèle de mars 2021, chargeons le modèle sauvegardé sur labtenant:"
   ]
  },
  {
   "cell_type": "code",
   "execution_count": null,
   "metadata": {},
   "outputs": [],
   "source": []
  }
 ],
 "metadata": {
  "kernelspec": {
   "display_name": "Python 3.6.8 64-bit ('env_predictSF': venv)",
   "language": "python",
   "name": "python368jvsc74a57bd0619141f40d6660e90435fdea452ff8c8a3cfa2ce2d42e30ecc199b88a9b310ca"
  },
  "language_info": {
   "codemirror_mode": {
    "name": "ipython",
    "version": 3
   },
   "file_extension": ".py",
   "mimetype": "text/x-python",
   "name": "python",
   "nbconvert_exporter": "python",
   "pygments_lexer": "ipython3",
   "version": "3.6.8-final"
  }
 },
 "nbformat": 4,
 "nbformat_minor": 2
}
