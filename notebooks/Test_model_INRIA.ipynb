{
 "cells": [
  {
   "cell_type": "code",
   "execution_count": 1,
   "id": "tired-shadow",
   "metadata": {},
   "outputs": [],
   "source": [
    "%config Completer.use_jedi = False"
   ]
  },
  {
   "cell_type": "markdown",
   "id": "tired-cannon",
   "metadata": {},
   "source": [
    "We import the different things we need, then we pre-process the data such as in the training notebook\n",
    "==="
   ]
  },
  {
   "cell_type": "code",
   "execution_count": 62,
   "id": "beginning-montgomery",
   "metadata": {},
   "outputs": [],
   "source": [
    "from pathlib import Path\n",
    "import importlib.util\n",
    "\n",
    "import logging\n",
    "logging.getLogger().setLevel(logging.INFO)\n",
    "\n",
    "from sklearn import tree\n",
    "from sklearn.base import BaseEstimator\n",
    "from sklearn.linear_model import LogisticRegression\n",
    "\n",
    "from sklearn.pipeline import Pipeline\n",
    "from sklearn.preprocessing import OneHotEncoder, StandardScaler\n",
    "from sklearn.model_selection import train_test_split\n",
    "from sklearn.metrics import fbeta_score, balanced_accuracy_score, confusion_matrix, precision_recall_fscore_support\n",
    "from sklearn_pandas import DataFrameMapper\n",
    "\n",
    "from sklearn.pipeline import make_pipeline\n",
    "from sklearn.preprocessing import StandardScaler\n",
    "from sklearn.svm import SVC\n",
    "\n",
    "from sklearn.ensemble import RandomForestClassifier\n",
    "\n",
    "from sklearn.ensemble import GradientBoostingClassifier\n",
    "\n",
    "import pandas as pd\n",
    "\n",
    "import predictsignauxfaibles.models\n",
    "from predictsignauxfaibles.data import SFDataset\n",
    "from predictsignauxfaibles.config import OUTPUT_FOLDER, IGNORE_NA\n",
    "from predictsignauxfaibles.pipelines import run_pipeline\n",
    "from predictsignauxfaibles.utils import load_conf"
   ]
  },
  {
   "cell_type": "code",
   "execution_count": 3,
   "id": "junior-juice",
   "metadata": {},
   "outputs": [],
   "source": [
    "conf = load_conf(\"default\")"
   ]
  },
  {
   "cell_type": "code",
   "execution_count": 4,
   "id": "charitable-moses",
   "metadata": {},
   "outputs": [],
   "source": [
    "train = conf.TRAIN_DATASET\n",
    "train.sample_size = 1e4\n",
    "\n",
    "test = conf.TEST_DATASET\n",
    "test.sample_size = 1e4"
   ]
  },
  {
   "cell_type": "code",
   "execution_count": 5,
   "id": "attractive-brighton",
   "metadata": {},
   "outputs": [
    {
     "name": "stderr",
     "output_type": "stream",
     "text": [
      "INFO:root:Succesfully loaded Features data from MongoDB\n"
     ]
    }
   ],
   "source": [
    "savepath = None # change it to be a filepath if you wish to save train and test data locally\n",
    "\n",
    "train.fetch_data().raise_if_empty()\n",
    "test.fetch_data().raise_if_empty()\n",
    "logging.info(\"Succesfully loaded Features data from MongoDB\")\n",
    "\n",
    "if savepath is not None:\n",
    "    train.data.to_csv(f\"{savepath}_train.csv\")\n",
    "    test.data.to_csv(f\"{savepath}_test.csv\")\n",
    "    logging.info(f\"Saved Features extract to {savepath}\")"
   ]
  },
  {
   "cell_type": "code",
   "execution_count": 6,
   "id": "dedicated-accuracy",
   "metadata": {},
   "outputs": [
    {
     "name": "stderr",
     "output_type": "stream",
     "text": [
      "INFO:root:Removed 1408 from data based on SIREN blacklist\n"
     ]
    },
    {
     "data": {
      "text/plain": [
       "\n",
       "Signaux Faibles Dataset\n",
       "----------------------------------------------------\n",
       "            siret    periode  effectif  outcome  \\\n",
       "0  81426145900022 2018-08-01      18.0    False   \n",
       "1  48918288100024 2018-08-01      94.0    False   \n",
       "2  88879050800020 2018-08-01      29.0    False   \n",
       "3  78396088300032 2018-07-01      11.0    False   \n",
       "4  21030060400019 2018-08-01      12.0    False   \n",
       "\n",
       "   montant_part_ouvriere_past_12  montant_part_patronale_past_12  \\\n",
       "0                            0.0                             0.0   \n",
       "1                            0.0                             0.0   \n",
       "2                            NaN                             NaN   \n",
       "3                            0.0                             0.0   \n",
       "4                            NaN                             NaN   \n",
       "\n",
       "   montant_part_ouvriere_past_6  montant_part_patronale_past_6  \\\n",
       "0                           0.0                            0.0   \n",
       "1                           0.0                            0.0   \n",
       "2                           NaN                            NaN   \n",
       "3                           0.0                            0.0   \n",
       "4                           NaN                            NaN   \n",
       "\n",
       "   montant_part_ouvriere_past_3  montant_part_patronale_past_3  ...  \\\n",
       "0                           0.0                            0.0  ...   \n",
       "1                           0.0                            0.0  ...   \n",
       "2                           NaN                            NaN  ...   \n",
       "3                           0.0                            0.0  ...   \n",
       "4                           NaN                            NaN  ...   \n",
       "\n",
       "   degre_immo_corporelle  liquidite_reduite  poids_bfr_exploitation  \\\n",
       "0                    NaN                NaN                     NaN   \n",
       "1                    NaN                NaN                     NaN   \n",
       "2                    NaN                NaN                     NaN   \n",
       "3                    NaN                NaN                     NaN   \n",
       "4                    NaN                NaN                     NaN   \n",
       "\n",
       "   productivite_capital_investi  rentabilite_economique  rentabilite_nette  \\\n",
       "0                           NaN                     NaN                NaN   \n",
       "1                           NaN                     NaN                NaN   \n",
       "2                           NaN                     NaN                NaN   \n",
       "3                           NaN                     NaN                NaN   \n",
       "4                           NaN                     NaN                NaN   \n",
       "\n",
       "   ca interets apart_heures_consommees_cumulees  apart_heures_consommees  \n",
       "0 NaN      NaN                              NaN                      NaN  \n",
       "1 NaN      NaN                              NaN                      NaN  \n",
       "2 NaN      NaN                              NaN                      NaN  \n",
       "3 NaN      NaN                              NaN                      NaN  \n",
       "4 NaN      NaN                              NaN                      NaN  \n",
       "\n",
       "[5 rows x 38 columns]\n",
       "[...]\n",
       "----------------------------------------------------\n",
       "Number of observations = 8592\n",
       "        "
      ]
     },
     "execution_count": 6,
     "metadata": {},
     "output_type": "execute_result"
    }
   ],
   "source": [
    "train_siren_set = train.data[\"siren\"].unique().tolist()\n",
    "test.remove_siren(train_siren_set)"
   ]
  },
  {
   "cell_type": "code",
   "execution_count": 7,
   "id": "remarkable-maryland",
   "metadata": {},
   "outputs": [
    {
     "name": "stderr",
     "output_type": "stream",
     "text": [
      "INFO:root:Removing NAs from dataset.\n",
      "INFO:root:Number of observations before: 10000\n",
      "INFO:root:Number of observations after: 2013\n",
      "INFO:root:Checking that input columns are all there.\n",
      "INFO:root:Running pipeline on data.\n",
      "INFO:root:STEP 1: Remove Administrations\n",
      "INFO:root:STEP 2: Make `paydex_yoy`\n",
      "INFO:root:STEP 3: Make `paydex_group`\n",
      "INFO:root:STEP 4: Make `avg_delta_dette_par_effectif`\n",
      "INFO:root:Removing NAs from dataset.\n",
      "INFO:root:Number of observations before: 8592\n",
      "INFO:root:Number of observations after: 2664\n",
      "INFO:root:Checking that input columns are all there.\n",
      "INFO:root:Running pipeline on data.\n",
      "INFO:root:STEP 1: Remove Administrations\n",
      "INFO:root:STEP 2: Make `paydex_yoy`\n",
      "INFO:root:STEP 3: Make `paydex_group`\n",
      "INFO:root:STEP 4: Make `avg_delta_dette_par_effectif`\n"
     ]
    }
   ],
   "source": [
    "train.replace_missing_data().remove_na(ignore=IGNORE_NA)\n",
    "train.data = run_pipeline(train.data, conf.TRANSFO_PIPELINE)\n",
    "\n",
    "test.replace_missing_data().remove_na(ignore=IGNORE_NA)\n",
    "test.data = run_pipeline(test.data, conf.TRANSFO_PIPELINE)"
   ]
  },
  {
   "cell_type": "code",
   "execution_count": 8,
   "id": "weird-timeline",
   "metadata": {},
   "outputs": [
    {
     "data": {
      "text/html": [
       "<div>\n",
       "<style scoped>\n",
       "    .dataframe tbody tr th:only-of-type {\n",
       "        vertical-align: middle;\n",
       "    }\n",
       "\n",
       "    .dataframe tbody tr th {\n",
       "        vertical-align: top;\n",
       "    }\n",
       "\n",
       "    .dataframe thead th {\n",
       "        text-align: right;\n",
       "    }\n",
       "</style>\n",
       "<table border=\"1\" class=\"dataframe\">\n",
       "  <thead>\n",
       "    <tr style=\"text-align: right;\">\n",
       "      <th></th>\n",
       "      <th>siret</th>\n",
       "      <th>periode</th>\n",
       "      <th>effectif</th>\n",
       "      <th>outcome</th>\n",
       "      <th>montant_part_ouvriere_past_12</th>\n",
       "      <th>montant_part_patronale_past_12</th>\n",
       "      <th>montant_part_ouvriere_past_6</th>\n",
       "      <th>montant_part_patronale_past_6</th>\n",
       "      <th>montant_part_ouvriere_past_3</th>\n",
       "      <th>montant_part_patronale_past_3</th>\n",
       "      <th>...</th>\n",
       "      <th>productivite_capital_investi</th>\n",
       "      <th>rentabilite_economique</th>\n",
       "      <th>rentabilite_nette</th>\n",
       "      <th>ca</th>\n",
       "      <th>interets</th>\n",
       "      <th>apart_heures_consommees</th>\n",
       "      <th>apart_heures_consommees_cumulees</th>\n",
       "      <th>paydex_yoy</th>\n",
       "      <th>paydex_group</th>\n",
       "      <th>avg_delta_dette_par_effectif</th>\n",
       "    </tr>\n",
       "  </thead>\n",
       "  <tbody>\n",
       "    <tr>\n",
       "      <th>0</th>\n",
       "      <td>33031926000528</td>\n",
       "      <td>2017-11-01</td>\n",
       "      <td>23.0</td>\n",
       "      <td>False</td>\n",
       "      <td>0.0</td>\n",
       "      <td>0.0</td>\n",
       "      <td>0.0</td>\n",
       "      <td>0.0</td>\n",
       "      <td>131.0</td>\n",
       "      <td>333.0</td>\n",
       "      <td>...</td>\n",
       "      <td>0.39</td>\n",
       "      <td>9.76</td>\n",
       "      <td>3.00</td>\n",
       "      <td>50111.0</td>\n",
       "      <td>115.0</td>\n",
       "      <td>0.0</td>\n",
       "      <td>0.0</td>\n",
       "      <td>-10.0</td>\n",
       "      <td>(0.0, 15.0]</td>\n",
       "      <td>-6.724638</td>\n",
       "    </tr>\n",
       "    <tr>\n",
       "      <th>1</th>\n",
       "      <td>48926687400069</td>\n",
       "      <td>2017-12-01</td>\n",
       "      <td>41.0</td>\n",
       "      <td>False</td>\n",
       "      <td>0.0</td>\n",
       "      <td>0.0</td>\n",
       "      <td>0.0</td>\n",
       "      <td>0.0</td>\n",
       "      <td>0.0</td>\n",
       "      <td>0.0</td>\n",
       "      <td>...</td>\n",
       "      <td>1.81</td>\n",
       "      <td>0.00</td>\n",
       "      <td>-0.50</td>\n",
       "      <td>3261.0</td>\n",
       "      <td>1.0</td>\n",
       "      <td>0.0</td>\n",
       "      <td>0.0</td>\n",
       "      <td>0.0</td>\n",
       "      <td>(-inf, 0.0]</td>\n",
       "      <td>0.000000</td>\n",
       "    </tr>\n",
       "    <tr>\n",
       "      <th>2</th>\n",
       "      <td>47728084602417</td>\n",
       "      <td>2017-07-01</td>\n",
       "      <td>11.0</td>\n",
       "      <td>False</td>\n",
       "      <td>0.0</td>\n",
       "      <td>0.0</td>\n",
       "      <td>0.0</td>\n",
       "      <td>0.0</td>\n",
       "      <td>0.0</td>\n",
       "      <td>0.0</td>\n",
       "      <td>...</td>\n",
       "      <td>0.32</td>\n",
       "      <td>4.67</td>\n",
       "      <td>2.04</td>\n",
       "      <td>253842.0</td>\n",
       "      <td>137.0</td>\n",
       "      <td>0.0</td>\n",
       "      <td>0.0</td>\n",
       "      <td>-6.0</td>\n",
       "      <td>(0.0, 15.0]</td>\n",
       "      <td>0.000000</td>\n",
       "    </tr>\n",
       "    <tr>\n",
       "      <th>3</th>\n",
       "      <td>33472312900014</td>\n",
       "      <td>2018-03-01</td>\n",
       "      <td>31.0</td>\n",
       "      <td>False</td>\n",
       "      <td>0.0</td>\n",
       "      <td>0.0</td>\n",
       "      <td>0.0</td>\n",
       "      <td>0.0</td>\n",
       "      <td>0.0</td>\n",
       "      <td>0.0</td>\n",
       "      <td>...</td>\n",
       "      <td>0.47</td>\n",
       "      <td>-4.80</td>\n",
       "      <td>-1.54</td>\n",
       "      <td>5263.0</td>\n",
       "      <td>12.0</td>\n",
       "      <td>0.0</td>\n",
       "      <td>0.0</td>\n",
       "      <td>0.0</td>\n",
       "      <td>(-inf, 0.0]</td>\n",
       "      <td>0.000000</td>\n",
       "    </tr>\n",
       "    <tr>\n",
       "      <th>4</th>\n",
       "      <td>31780344300025</td>\n",
       "      <td>2016-12-01</td>\n",
       "      <td>116.0</td>\n",
       "      <td>False</td>\n",
       "      <td>0.0</td>\n",
       "      <td>0.0</td>\n",
       "      <td>0.0</td>\n",
       "      <td>0.0</td>\n",
       "      <td>0.0</td>\n",
       "      <td>0.0</td>\n",
       "      <td>...</td>\n",
       "      <td>0.38</td>\n",
       "      <td>0.85</td>\n",
       "      <td>4.46</td>\n",
       "      <td>78297.0</td>\n",
       "      <td>14.0</td>\n",
       "      <td>0.0</td>\n",
       "      <td>0.0</td>\n",
       "      <td>11.0</td>\n",
       "      <td>(15.0, 30.0]</td>\n",
       "      <td>0.000000</td>\n",
       "    </tr>\n",
       "    <tr>\n",
       "      <th>...</th>\n",
       "      <td>...</td>\n",
       "      <td>...</td>\n",
       "      <td>...</td>\n",
       "      <td>...</td>\n",
       "      <td>...</td>\n",
       "      <td>...</td>\n",
       "      <td>...</td>\n",
       "      <td>...</td>\n",
       "      <td>...</td>\n",
       "      <td>...</td>\n",
       "      <td>...</td>\n",
       "      <td>...</td>\n",
       "      <td>...</td>\n",
       "      <td>...</td>\n",
       "      <td>...</td>\n",
       "      <td>...</td>\n",
       "      <td>...</td>\n",
       "      <td>...</td>\n",
       "      <td>...</td>\n",
       "      <td>...</td>\n",
       "      <td>...</td>\n",
       "    </tr>\n",
       "    <tr>\n",
       "      <th>2008</th>\n",
       "      <td>32652252100037</td>\n",
       "      <td>2017-11-01</td>\n",
       "      <td>37.0</td>\n",
       "      <td>False</td>\n",
       "      <td>0.0</td>\n",
       "      <td>0.0</td>\n",
       "      <td>0.0</td>\n",
       "      <td>0.0</td>\n",
       "      <td>0.0</td>\n",
       "      <td>0.0</td>\n",
       "      <td>...</td>\n",
       "      <td>0.56</td>\n",
       "      <td>-0.65</td>\n",
       "      <td>-3.97</td>\n",
       "      <td>5044.0</td>\n",
       "      <td>10.0</td>\n",
       "      <td>0.0</td>\n",
       "      <td>0.0</td>\n",
       "      <td>-5.0</td>\n",
       "      <td>(0.0, 15.0]</td>\n",
       "      <td>0.000000</td>\n",
       "    </tr>\n",
       "    <tr>\n",
       "      <th>2009</th>\n",
       "      <td>41852145600016</td>\n",
       "      <td>2017-09-01</td>\n",
       "      <td>22.0</td>\n",
       "      <td>False</td>\n",
       "      <td>0.0</td>\n",
       "      <td>0.0</td>\n",
       "      <td>0.0</td>\n",
       "      <td>0.0</td>\n",
       "      <td>0.0</td>\n",
       "      <td>0.0</td>\n",
       "      <td>...</td>\n",
       "      <td>0.25</td>\n",
       "      <td>2.82</td>\n",
       "      <td>1.47</td>\n",
       "      <td>16376.0</td>\n",
       "      <td>33.0</td>\n",
       "      <td>0.0</td>\n",
       "      <td>0.0</td>\n",
       "      <td>-6.0</td>\n",
       "      <td>(0.0, 15.0]</td>\n",
       "      <td>0.000000</td>\n",
       "    </tr>\n",
       "    <tr>\n",
       "      <th>2010</th>\n",
       "      <td>31212663400020</td>\n",
       "      <td>2017-03-01</td>\n",
       "      <td>12.0</td>\n",
       "      <td>False</td>\n",
       "      <td>0.0</td>\n",
       "      <td>0.0</td>\n",
       "      <td>0.0</td>\n",
       "      <td>269.0</td>\n",
       "      <td>0.0</td>\n",
       "      <td>0.0</td>\n",
       "      <td>...</td>\n",
       "      <td>0.22</td>\n",
       "      <td>3.06</td>\n",
       "      <td>0.62</td>\n",
       "      <td>788.0</td>\n",
       "      <td>0.0</td>\n",
       "      <td>0.0</td>\n",
       "      <td>0.0</td>\n",
       "      <td>0.0</td>\n",
       "      <td>(0.0, 15.0]</td>\n",
       "      <td>0.000000</td>\n",
       "    </tr>\n",
       "    <tr>\n",
       "      <th>2011</th>\n",
       "      <td>48110853800010</td>\n",
       "      <td>2018-03-01</td>\n",
       "      <td>14.0</td>\n",
       "      <td>True</td>\n",
       "      <td>0.0</td>\n",
       "      <td>0.0</td>\n",
       "      <td>0.0</td>\n",
       "      <td>0.0</td>\n",
       "      <td>0.0</td>\n",
       "      <td>5342.0</td>\n",
       "      <td>...</td>\n",
       "      <td>0.49</td>\n",
       "      <td>4.12</td>\n",
       "      <td>3.12</td>\n",
       "      <td>2316.0</td>\n",
       "      <td>23.0</td>\n",
       "      <td>0.0</td>\n",
       "      <td>0.0</td>\n",
       "      <td>6.0</td>\n",
       "      <td>(0.0, 15.0]</td>\n",
       "      <td>-127.190476</td>\n",
       "    </tr>\n",
       "    <tr>\n",
       "      <th>2012</th>\n",
       "      <td>39018980100025</td>\n",
       "      <td>2017-07-01</td>\n",
       "      <td>12.0</td>\n",
       "      <td>False</td>\n",
       "      <td>0.0</td>\n",
       "      <td>0.0</td>\n",
       "      <td>0.0</td>\n",
       "      <td>0.0</td>\n",
       "      <td>0.0</td>\n",
       "      <td>0.0</td>\n",
       "      <td>...</td>\n",
       "      <td>0.19</td>\n",
       "      <td>55.10</td>\n",
       "      <td>29.94</td>\n",
       "      <td>9117.0</td>\n",
       "      <td>0.0</td>\n",
       "      <td>0.0</td>\n",
       "      <td>0.0</td>\n",
       "      <td>6.0</td>\n",
       "      <td>(0.0, 15.0]</td>\n",
       "      <td>0.000000</td>\n",
       "    </tr>\n",
       "  </tbody>\n",
       "</table>\n",
       "<p>2007 rows × 41 columns</p>\n",
       "</div>"
      ],
      "text/plain": [
       "               siret    periode  effectif  outcome  \\\n",
       "0     33031926000528 2017-11-01      23.0    False   \n",
       "1     48926687400069 2017-12-01      41.0    False   \n",
       "2     47728084602417 2017-07-01      11.0    False   \n",
       "3     33472312900014 2018-03-01      31.0    False   \n",
       "4     31780344300025 2016-12-01     116.0    False   \n",
       "...              ...        ...       ...      ...   \n",
       "2008  32652252100037 2017-11-01      37.0    False   \n",
       "2009  41852145600016 2017-09-01      22.0    False   \n",
       "2010  31212663400020 2017-03-01      12.0    False   \n",
       "2011  48110853800010 2018-03-01      14.0     True   \n",
       "2012  39018980100025 2017-07-01      12.0    False   \n",
       "\n",
       "      montant_part_ouvriere_past_12  montant_part_patronale_past_12  \\\n",
       "0                               0.0                             0.0   \n",
       "1                               0.0                             0.0   \n",
       "2                               0.0                             0.0   \n",
       "3                               0.0                             0.0   \n",
       "4                               0.0                             0.0   \n",
       "...                             ...                             ...   \n",
       "2008                            0.0                             0.0   \n",
       "2009                            0.0                             0.0   \n",
       "2010                            0.0                             0.0   \n",
       "2011                            0.0                             0.0   \n",
       "2012                            0.0                             0.0   \n",
       "\n",
       "      montant_part_ouvriere_past_6  montant_part_patronale_past_6  \\\n",
       "0                              0.0                            0.0   \n",
       "1                              0.0                            0.0   \n",
       "2                              0.0                            0.0   \n",
       "3                              0.0                            0.0   \n",
       "4                              0.0                            0.0   \n",
       "...                            ...                            ...   \n",
       "2008                           0.0                            0.0   \n",
       "2009                           0.0                            0.0   \n",
       "2010                           0.0                          269.0   \n",
       "2011                           0.0                            0.0   \n",
       "2012                           0.0                            0.0   \n",
       "\n",
       "      montant_part_ouvriere_past_3  montant_part_patronale_past_3  ...  \\\n",
       "0                            131.0                          333.0  ...   \n",
       "1                              0.0                            0.0  ...   \n",
       "2                              0.0                            0.0  ...   \n",
       "3                              0.0                            0.0  ...   \n",
       "4                              0.0                            0.0  ...   \n",
       "...                            ...                            ...  ...   \n",
       "2008                           0.0                            0.0  ...   \n",
       "2009                           0.0                            0.0  ...   \n",
       "2010                           0.0                            0.0  ...   \n",
       "2011                           0.0                         5342.0  ...   \n",
       "2012                           0.0                            0.0  ...   \n",
       "\n",
       "      productivite_capital_investi  rentabilite_economique  rentabilite_nette  \\\n",
       "0                             0.39                    9.76               3.00   \n",
       "1                             1.81                    0.00              -0.50   \n",
       "2                             0.32                    4.67               2.04   \n",
       "3                             0.47                   -4.80              -1.54   \n",
       "4                             0.38                    0.85               4.46   \n",
       "...                            ...                     ...                ...   \n",
       "2008                          0.56                   -0.65              -3.97   \n",
       "2009                          0.25                    2.82               1.47   \n",
       "2010                          0.22                    3.06               0.62   \n",
       "2011                          0.49                    4.12               3.12   \n",
       "2012                          0.19                   55.10              29.94   \n",
       "\n",
       "            ca  interets  apart_heures_consommees  \\\n",
       "0      50111.0     115.0                      0.0   \n",
       "1       3261.0       1.0                      0.0   \n",
       "2     253842.0     137.0                      0.0   \n",
       "3       5263.0      12.0                      0.0   \n",
       "4      78297.0      14.0                      0.0   \n",
       "...        ...       ...                      ...   \n",
       "2008    5044.0      10.0                      0.0   \n",
       "2009   16376.0      33.0                      0.0   \n",
       "2010     788.0       0.0                      0.0   \n",
       "2011    2316.0      23.0                      0.0   \n",
       "2012    9117.0       0.0                      0.0   \n",
       "\n",
       "      apart_heures_consommees_cumulees paydex_yoy  paydex_group  \\\n",
       "0                                  0.0      -10.0   (0.0, 15.0]   \n",
       "1                                  0.0        0.0   (-inf, 0.0]   \n",
       "2                                  0.0       -6.0   (0.0, 15.0]   \n",
       "3                                  0.0        0.0   (-inf, 0.0]   \n",
       "4                                  0.0       11.0  (15.0, 30.0]   \n",
       "...                                ...        ...           ...   \n",
       "2008                               0.0       -5.0   (0.0, 15.0]   \n",
       "2009                               0.0       -6.0   (0.0, 15.0]   \n",
       "2010                               0.0        0.0   (0.0, 15.0]   \n",
       "2011                               0.0        6.0   (0.0, 15.0]   \n",
       "2012                               0.0        6.0   (0.0, 15.0]   \n",
       "\n",
       "      avg_delta_dette_par_effectif  \n",
       "0                        -6.724638  \n",
       "1                         0.000000  \n",
       "2                         0.000000  \n",
       "3                         0.000000  \n",
       "4                         0.000000  \n",
       "...                            ...  \n",
       "2008                      0.000000  \n",
       "2009                      0.000000  \n",
       "2010                      0.000000  \n",
       "2011                   -127.190476  \n",
       "2012                      0.000000  \n",
       "\n",
       "[2007 rows x 41 columns]"
      ]
     },
     "execution_count": 8,
     "metadata": {},
     "output_type": "execute_result"
    }
   ],
   "source": [
    "train.data"
   ]
  },
  {
   "cell_type": "code",
   "execution_count": 9,
   "id": "appropriate-blink",
   "metadata": {},
   "outputs": [],
   "source": [
    "train = train.data"
   ]
  },
  {
   "cell_type": "code",
   "execution_count": 10,
   "id": "adaptive-replacement",
   "metadata": {},
   "outputs": [],
   "source": [
    "test = test.data"
   ]
  },
  {
   "cell_type": "code",
   "execution_count": 11,
   "id": "cognitive-optimization",
   "metadata": {},
   "outputs": [
    {
     "data": {
      "text/plain": [
       "siret                                  0\n",
       "periode                                0\n",
       "effectif                               0\n",
       "outcome                                0\n",
       "montant_part_ouvriere_past_12          0\n",
       "montant_part_patronale_past_12         0\n",
       "montant_part_ouvriere_past_6           0\n",
       "montant_part_patronale_past_6          0\n",
       "montant_part_ouvriere_past_3           0\n",
       "montant_part_patronale_past_3          0\n",
       "montant_part_ouvriere_past_2           0\n",
       "montant_part_patronale_past_2          0\n",
       "montant_part_ouvriere_past_1           0\n",
       "montant_part_patronale_past_1          0\n",
       "cotisation                             0\n",
       "montant_part_ouvriere                  0\n",
       "montant_part_patronale                 0\n",
       "siren                                  0\n",
       "code_naf                              42\n",
       "cotisation_moy12m                      0\n",
       "ratio_dette                            0\n",
       "ratio_dette_moy12m                     0\n",
       "time_til_outcome                    1162\n",
       "paydex_nb_jours                        0\n",
       "paydex_nb_jours_past_12                0\n",
       "financier_court_terme                  0\n",
       "equilibre_financier                    0\n",
       "endettement                            0\n",
       "degre_immo_corporelle                  0\n",
       "liquidite_reduite                      0\n",
       "poids_bfr_exploitation                 0\n",
       "productivite_capital_investi           0\n",
       "rentabilite_economique                 0\n",
       "rentabilite_nette                      0\n",
       "ca                                     0\n",
       "interets                               0\n",
       "apart_heures_consommees                0\n",
       "apart_heures_consommees_cumulees       0\n",
       "paydex_yoy                             0\n",
       "paydex_group                           0\n",
       "avg_delta_dette_par_effectif           0\n",
       "dtype: int64"
      ]
     },
     "execution_count": 11,
     "metadata": {},
     "output_type": "execute_result"
    }
   ],
   "source": [
    "train.loc[train['outcome']==False].isnull().sum()"
   ]
  },
  {
   "cell_type": "code",
   "execution_count": 12,
   "id": "iraqi-colleague",
   "metadata": {},
   "outputs": [
    {
     "data": {
      "text/html": [
       "<div>\n",
       "<style scoped>\n",
       "    .dataframe tbody tr th:only-of-type {\n",
       "        vertical-align: middle;\n",
       "    }\n",
       "\n",
       "    .dataframe tbody tr th {\n",
       "        vertical-align: top;\n",
       "    }\n",
       "\n",
       "    .dataframe thead th {\n",
       "        text-align: right;\n",
       "    }\n",
       "</style>\n",
       "<table border=\"1\" class=\"dataframe\">\n",
       "  <thead>\n",
       "    <tr style=\"text-align: right;\">\n",
       "      <th></th>\n",
       "      <th>effectif</th>\n",
       "      <th>montant_part_ouvriere_past_12</th>\n",
       "      <th>montant_part_patronale_past_12</th>\n",
       "      <th>montant_part_ouvriere_past_6</th>\n",
       "      <th>montant_part_patronale_past_6</th>\n",
       "      <th>montant_part_ouvriere_past_3</th>\n",
       "      <th>montant_part_patronale_past_3</th>\n",
       "      <th>montant_part_ouvriere_past_2</th>\n",
       "      <th>montant_part_patronale_past_2</th>\n",
       "      <th>montant_part_ouvriere_past_1</th>\n",
       "      <th>...</th>\n",
       "      <th>poids_bfr_exploitation</th>\n",
       "      <th>productivite_capital_investi</th>\n",
       "      <th>rentabilite_economique</th>\n",
       "      <th>rentabilite_nette</th>\n",
       "      <th>ca</th>\n",
       "      <th>interets</th>\n",
       "      <th>apart_heures_consommees</th>\n",
       "      <th>apart_heures_consommees_cumulees</th>\n",
       "      <th>paydex_yoy</th>\n",
       "      <th>avg_delta_dette_par_effectif</th>\n",
       "    </tr>\n",
       "  </thead>\n",
       "  <tbody>\n",
       "    <tr>\n",
       "      <th>0</th>\n",
       "      <td>23.0</td>\n",
       "      <td>0.0</td>\n",
       "      <td>0.0</td>\n",
       "      <td>0.0</td>\n",
       "      <td>0.0</td>\n",
       "      <td>131.0</td>\n",
       "      <td>333.0</td>\n",
       "      <td>0.0</td>\n",
       "      <td>0.0</td>\n",
       "      <td>0.0</td>\n",
       "      <td>...</td>\n",
       "      <td>9.64</td>\n",
       "      <td>0.39</td>\n",
       "      <td>9.76</td>\n",
       "      <td>3.00</td>\n",
       "      <td>50111.0</td>\n",
       "      <td>115.0</td>\n",
       "      <td>0.0</td>\n",
       "      <td>0.0</td>\n",
       "      <td>-10.0</td>\n",
       "      <td>-6.724638</td>\n",
       "    </tr>\n",
       "    <tr>\n",
       "      <th>1</th>\n",
       "      <td>41.0</td>\n",
       "      <td>0.0</td>\n",
       "      <td>0.0</td>\n",
       "      <td>0.0</td>\n",
       "      <td>0.0</td>\n",
       "      <td>0.0</td>\n",
       "      <td>0.0</td>\n",
       "      <td>0.0</td>\n",
       "      <td>0.0</td>\n",
       "      <td>0.0</td>\n",
       "      <td>...</td>\n",
       "      <td>28.59</td>\n",
       "      <td>1.81</td>\n",
       "      <td>0.00</td>\n",
       "      <td>-0.50</td>\n",
       "      <td>3261.0</td>\n",
       "      <td>1.0</td>\n",
       "      <td>0.0</td>\n",
       "      <td>0.0</td>\n",
       "      <td>0.0</td>\n",
       "      <td>0.000000</td>\n",
       "    </tr>\n",
       "    <tr>\n",
       "      <th>2</th>\n",
       "      <td>11.0</td>\n",
       "      <td>0.0</td>\n",
       "      <td>0.0</td>\n",
       "      <td>0.0</td>\n",
       "      <td>0.0</td>\n",
       "      <td>0.0</td>\n",
       "      <td>0.0</td>\n",
       "      <td>0.0</td>\n",
       "      <td>0.0</td>\n",
       "      <td>0.0</td>\n",
       "      <td>...</td>\n",
       "      <td>10.30</td>\n",
       "      <td>0.32</td>\n",
       "      <td>4.67</td>\n",
       "      <td>2.04</td>\n",
       "      <td>253842.0</td>\n",
       "      <td>137.0</td>\n",
       "      <td>0.0</td>\n",
       "      <td>0.0</td>\n",
       "      <td>-6.0</td>\n",
       "      <td>0.000000</td>\n",
       "    </tr>\n",
       "    <tr>\n",
       "      <th>3</th>\n",
       "      <td>31.0</td>\n",
       "      <td>0.0</td>\n",
       "      <td>0.0</td>\n",
       "      <td>0.0</td>\n",
       "      <td>0.0</td>\n",
       "      <td>0.0</td>\n",
       "      <td>0.0</td>\n",
       "      <td>0.0</td>\n",
       "      <td>0.0</td>\n",
       "      <td>0.0</td>\n",
       "      <td>...</td>\n",
       "      <td>16.80</td>\n",
       "      <td>0.47</td>\n",
       "      <td>-4.80</td>\n",
       "      <td>-1.54</td>\n",
       "      <td>5263.0</td>\n",
       "      <td>12.0</td>\n",
       "      <td>0.0</td>\n",
       "      <td>0.0</td>\n",
       "      <td>0.0</td>\n",
       "      <td>0.000000</td>\n",
       "    </tr>\n",
       "    <tr>\n",
       "      <th>4</th>\n",
       "      <td>116.0</td>\n",
       "      <td>0.0</td>\n",
       "      <td>0.0</td>\n",
       "      <td>0.0</td>\n",
       "      <td>0.0</td>\n",
       "      <td>0.0</td>\n",
       "      <td>0.0</td>\n",
       "      <td>0.0</td>\n",
       "      <td>0.0</td>\n",
       "      <td>0.0</td>\n",
       "      <td>...</td>\n",
       "      <td>40.51</td>\n",
       "      <td>0.38</td>\n",
       "      <td>0.85</td>\n",
       "      <td>4.46</td>\n",
       "      <td>78297.0</td>\n",
       "      <td>14.0</td>\n",
       "      <td>0.0</td>\n",
       "      <td>0.0</td>\n",
       "      <td>11.0</td>\n",
       "      <td>0.000000</td>\n",
       "    </tr>\n",
       "    <tr>\n",
       "      <th>...</th>\n",
       "      <td>...</td>\n",
       "      <td>...</td>\n",
       "      <td>...</td>\n",
       "      <td>...</td>\n",
       "      <td>...</td>\n",
       "      <td>...</td>\n",
       "      <td>...</td>\n",
       "      <td>...</td>\n",
       "      <td>...</td>\n",
       "      <td>...</td>\n",
       "      <td>...</td>\n",
       "      <td>...</td>\n",
       "      <td>...</td>\n",
       "      <td>...</td>\n",
       "      <td>...</td>\n",
       "      <td>...</td>\n",
       "      <td>...</td>\n",
       "      <td>...</td>\n",
       "      <td>...</td>\n",
       "      <td>...</td>\n",
       "      <td>...</td>\n",
       "    </tr>\n",
       "    <tr>\n",
       "      <th>2008</th>\n",
       "      <td>37.0</td>\n",
       "      <td>0.0</td>\n",
       "      <td>0.0</td>\n",
       "      <td>0.0</td>\n",
       "      <td>0.0</td>\n",
       "      <td>0.0</td>\n",
       "      <td>0.0</td>\n",
       "      <td>0.0</td>\n",
       "      <td>0.0</td>\n",
       "      <td>0.0</td>\n",
       "      <td>...</td>\n",
       "      <td>57.31</td>\n",
       "      <td>0.56</td>\n",
       "      <td>-0.65</td>\n",
       "      <td>-3.97</td>\n",
       "      <td>5044.0</td>\n",
       "      <td>10.0</td>\n",
       "      <td>0.0</td>\n",
       "      <td>0.0</td>\n",
       "      <td>-5.0</td>\n",
       "      <td>0.000000</td>\n",
       "    </tr>\n",
       "    <tr>\n",
       "      <th>2009</th>\n",
       "      <td>22.0</td>\n",
       "      <td>0.0</td>\n",
       "      <td>0.0</td>\n",
       "      <td>0.0</td>\n",
       "      <td>0.0</td>\n",
       "      <td>0.0</td>\n",
       "      <td>0.0</td>\n",
       "      <td>0.0</td>\n",
       "      <td>0.0</td>\n",
       "      <td>0.0</td>\n",
       "      <td>...</td>\n",
       "      <td>28.41</td>\n",
       "      <td>0.25</td>\n",
       "      <td>2.82</td>\n",
       "      <td>1.47</td>\n",
       "      <td>16376.0</td>\n",
       "      <td>33.0</td>\n",
       "      <td>0.0</td>\n",
       "      <td>0.0</td>\n",
       "      <td>-6.0</td>\n",
       "      <td>0.000000</td>\n",
       "    </tr>\n",
       "    <tr>\n",
       "      <th>2010</th>\n",
       "      <td>12.0</td>\n",
       "      <td>0.0</td>\n",
       "      <td>0.0</td>\n",
       "      <td>0.0</td>\n",
       "      <td>269.0</td>\n",
       "      <td>0.0</td>\n",
       "      <td>0.0</td>\n",
       "      <td>0.0</td>\n",
       "      <td>0.0</td>\n",
       "      <td>0.0</td>\n",
       "      <td>...</td>\n",
       "      <td>38.45</td>\n",
       "      <td>0.22</td>\n",
       "      <td>3.06</td>\n",
       "      <td>0.62</td>\n",
       "      <td>788.0</td>\n",
       "      <td>0.0</td>\n",
       "      <td>0.0</td>\n",
       "      <td>0.0</td>\n",
       "      <td>0.0</td>\n",
       "      <td>0.000000</td>\n",
       "    </tr>\n",
       "    <tr>\n",
       "      <th>2011</th>\n",
       "      <td>14.0</td>\n",
       "      <td>0.0</td>\n",
       "      <td>0.0</td>\n",
       "      <td>0.0</td>\n",
       "      <td>0.0</td>\n",
       "      <td>0.0</td>\n",
       "      <td>5342.0</td>\n",
       "      <td>0.0</td>\n",
       "      <td>2672.0</td>\n",
       "      <td>0.0</td>\n",
       "      <td>...</td>\n",
       "      <td>46.68</td>\n",
       "      <td>0.49</td>\n",
       "      <td>4.12</td>\n",
       "      <td>3.12</td>\n",
       "      <td>2316.0</td>\n",
       "      <td>23.0</td>\n",
       "      <td>0.0</td>\n",
       "      <td>0.0</td>\n",
       "      <td>6.0</td>\n",
       "      <td>-127.190476</td>\n",
       "    </tr>\n",
       "    <tr>\n",
       "      <th>2012</th>\n",
       "      <td>12.0</td>\n",
       "      <td>0.0</td>\n",
       "      <td>0.0</td>\n",
       "      <td>0.0</td>\n",
       "      <td>0.0</td>\n",
       "      <td>0.0</td>\n",
       "      <td>0.0</td>\n",
       "      <td>0.0</td>\n",
       "      <td>0.0</td>\n",
       "      <td>0.0</td>\n",
       "      <td>...</td>\n",
       "      <td>200.31</td>\n",
       "      <td>0.19</td>\n",
       "      <td>55.10</td>\n",
       "      <td>29.94</td>\n",
       "      <td>9117.0</td>\n",
       "      <td>0.0</td>\n",
       "      <td>0.0</td>\n",
       "      <td>0.0</td>\n",
       "      <td>6.0</td>\n",
       "      <td>0.000000</td>\n",
       "    </tr>\n",
       "  </tbody>\n",
       "</table>\n",
       "<p>2007 rows × 34 columns</p>\n",
       "</div>"
      ],
      "text/plain": [
       "      effectif  montant_part_ouvriere_past_12  montant_part_patronale_past_12  \\\n",
       "0         23.0                            0.0                             0.0   \n",
       "1         41.0                            0.0                             0.0   \n",
       "2         11.0                            0.0                             0.0   \n",
       "3         31.0                            0.0                             0.0   \n",
       "4        116.0                            0.0                             0.0   \n",
       "...        ...                            ...                             ...   \n",
       "2008      37.0                            0.0                             0.0   \n",
       "2009      22.0                            0.0                             0.0   \n",
       "2010      12.0                            0.0                             0.0   \n",
       "2011      14.0                            0.0                             0.0   \n",
       "2012      12.0                            0.0                             0.0   \n",
       "\n",
       "      montant_part_ouvriere_past_6  montant_part_patronale_past_6  \\\n",
       "0                              0.0                            0.0   \n",
       "1                              0.0                            0.0   \n",
       "2                              0.0                            0.0   \n",
       "3                              0.0                            0.0   \n",
       "4                              0.0                            0.0   \n",
       "...                            ...                            ...   \n",
       "2008                           0.0                            0.0   \n",
       "2009                           0.0                            0.0   \n",
       "2010                           0.0                          269.0   \n",
       "2011                           0.0                            0.0   \n",
       "2012                           0.0                            0.0   \n",
       "\n",
       "      montant_part_ouvriere_past_3  montant_part_patronale_past_3  \\\n",
       "0                            131.0                          333.0   \n",
       "1                              0.0                            0.0   \n",
       "2                              0.0                            0.0   \n",
       "3                              0.0                            0.0   \n",
       "4                              0.0                            0.0   \n",
       "...                            ...                            ...   \n",
       "2008                           0.0                            0.0   \n",
       "2009                           0.0                            0.0   \n",
       "2010                           0.0                            0.0   \n",
       "2011                           0.0                         5342.0   \n",
       "2012                           0.0                            0.0   \n",
       "\n",
       "      montant_part_ouvriere_past_2  montant_part_patronale_past_2  \\\n",
       "0                              0.0                            0.0   \n",
       "1                              0.0                            0.0   \n",
       "2                              0.0                            0.0   \n",
       "3                              0.0                            0.0   \n",
       "4                              0.0                            0.0   \n",
       "...                            ...                            ...   \n",
       "2008                           0.0                            0.0   \n",
       "2009                           0.0                            0.0   \n",
       "2010                           0.0                            0.0   \n",
       "2011                           0.0                         2672.0   \n",
       "2012                           0.0                            0.0   \n",
       "\n",
       "      montant_part_ouvriere_past_1  ...  poids_bfr_exploitation  \\\n",
       "0                              0.0  ...                    9.64   \n",
       "1                              0.0  ...                   28.59   \n",
       "2                              0.0  ...                   10.30   \n",
       "3                              0.0  ...                   16.80   \n",
       "4                              0.0  ...                   40.51   \n",
       "...                            ...  ...                     ...   \n",
       "2008                           0.0  ...                   57.31   \n",
       "2009                           0.0  ...                   28.41   \n",
       "2010                           0.0  ...                   38.45   \n",
       "2011                           0.0  ...                   46.68   \n",
       "2012                           0.0  ...                  200.31   \n",
       "\n",
       "      productivite_capital_investi  rentabilite_economique  rentabilite_nette  \\\n",
       "0                             0.39                    9.76               3.00   \n",
       "1                             1.81                    0.00              -0.50   \n",
       "2                             0.32                    4.67               2.04   \n",
       "3                             0.47                   -4.80              -1.54   \n",
       "4                             0.38                    0.85               4.46   \n",
       "...                            ...                     ...                ...   \n",
       "2008                          0.56                   -0.65              -3.97   \n",
       "2009                          0.25                    2.82               1.47   \n",
       "2010                          0.22                    3.06               0.62   \n",
       "2011                          0.49                    4.12               3.12   \n",
       "2012                          0.19                   55.10              29.94   \n",
       "\n",
       "            ca  interets  apart_heures_consommees  \\\n",
       "0      50111.0     115.0                      0.0   \n",
       "1       3261.0       1.0                      0.0   \n",
       "2     253842.0     137.0                      0.0   \n",
       "3       5263.0      12.0                      0.0   \n",
       "4      78297.0      14.0                      0.0   \n",
       "...        ...       ...                      ...   \n",
       "2008    5044.0      10.0                      0.0   \n",
       "2009   16376.0      33.0                      0.0   \n",
       "2010     788.0       0.0                      0.0   \n",
       "2011    2316.0      23.0                      0.0   \n",
       "2012    9117.0       0.0                      0.0   \n",
       "\n",
       "      apart_heures_consommees_cumulees  paydex_yoy  \\\n",
       "0                                  0.0       -10.0   \n",
       "1                                  0.0         0.0   \n",
       "2                                  0.0        -6.0   \n",
       "3                                  0.0         0.0   \n",
       "4                                  0.0        11.0   \n",
       "...                                ...         ...   \n",
       "2008                               0.0        -5.0   \n",
       "2009                               0.0        -6.0   \n",
       "2010                               0.0         0.0   \n",
       "2011                               0.0         6.0   \n",
       "2012                               0.0         6.0   \n",
       "\n",
       "      avg_delta_dette_par_effectif  \n",
       "0                        -6.724638  \n",
       "1                         0.000000  \n",
       "2                         0.000000  \n",
       "3                         0.000000  \n",
       "4                         0.000000  \n",
       "...                            ...  \n",
       "2008                      0.000000  \n",
       "2009                      0.000000  \n",
       "2010                      0.000000  \n",
       "2011                   -127.190476  \n",
       "2012                      0.000000  \n",
       "\n",
       "[2007 rows x 34 columns]"
      ]
     },
     "execution_count": 12,
     "metadata": {},
     "output_type": "execute_result"
    }
   ],
   "source": [
    "train.drop(['paydex_group','siret','periode','outcome','siren','code_naf','time_til_outcome'], axis=1)"
   ]
  },
  {
   "cell_type": "markdown",
   "id": "appreciated-audit",
   "metadata": {},
   "source": [
    "We first define and apply a LR, then measure its different metrics\n",
    "==="
   ]
  },
  {
   "cell_type": "code",
   "execution_count": 13,
   "id": "spectacular-training",
   "metadata": {},
   "outputs": [],
   "source": [
    "logreg = LogisticRegression()"
   ]
  },
  {
   "cell_type": "code",
   "execution_count": 14,
   "id": "accepting-walnut",
   "metadata": {},
   "outputs": [
    {
     "name": "stderr",
     "output_type": "stream",
     "text": [
      "/home/thomas.meunier/.local/lib/python3.6/site-packages/sklearn/linear_model/_logistic.py:765: ConvergenceWarning: lbfgs failed to converge (status=1):\n",
      "STOP: TOTAL NO. of ITERATIONS REACHED LIMIT.\n",
      "\n",
      "Increase the number of iterations (max_iter) or scale the data as shown in:\n",
      "    https://scikit-learn.org/stable/modules/preprocessing.html\n",
      "Please also refer to the documentation for alternative solver options:\n",
      "    https://scikit-learn.org/stable/modules/linear_model.html#logistic-regression\n",
      "  extra_warning_msg=_LOGISTIC_SOLVER_CONVERGENCE_MSG)\n"
     ]
    },
    {
     "data": {
      "text/plain": [
       "LogisticRegression()"
      ]
     },
     "execution_count": 14,
     "metadata": {},
     "output_type": "execute_result"
    }
   ],
   "source": [
    "logreg.fit(train.drop(['paydex_group','siret','periode','outcome','siren','code_naf','time_til_outcome'], axis=1),train['outcome'])"
   ]
  },
  {
   "cell_type": "code",
   "execution_count": 15,
   "id": "heated-consent",
   "metadata": {},
   "outputs": [],
   "source": [
    "test['outcome'] = logreg.predict(test.drop(['paydex_group','siret','periode','outcome','siren','code_naf','time_til_outcome'], axis=1))"
   ]
  },
  {
   "cell_type": "code",
   "execution_count": 16,
   "id": "tamil-scottish",
   "metadata": {},
   "outputs": [],
   "source": [
    "y_pred_lr = logreg.predict(train.drop(['paydex_group','siret','periode','outcome','siren','code_naf','time_til_outcome'], axis=1))"
   ]
  },
  {
   "cell_type": "code",
   "execution_count": 17,
   "id": "increasing-invitation",
   "metadata": {},
   "outputs": [
    {
     "data": {
      "text/plain": [
       "array([[1680,   22],\n",
       "       [ 144,  161]])"
      ]
     },
     "execution_count": 17,
     "metadata": {},
     "output_type": "execute_result"
    }
   ],
   "source": [
    "confusion_matrix(list(train['outcome']),y_pred_lr)"
   ]
  },
  {
   "cell_type": "code",
   "execution_count": 18,
   "id": "thirty-mercury",
   "metadata": {},
   "outputs": [
    {
     "data": {
      "text/plain": [
       "0.7574714415056538"
      ]
     },
     "execution_count": 18,
     "metadata": {},
     "output_type": "execute_result"
    }
   ],
   "source": [
    "balanced_accuracy_score(list(train['outcome']),y_pred_lr)"
   ]
  },
  {
   "cell_type": "code",
   "execution_count": 19,
   "id": "undefined-performer",
   "metadata": {},
   "outputs": [
    {
     "data": {
      "text/plain": [
       "0.5737704918032785"
      ]
     },
     "execution_count": 19,
     "metadata": {},
     "output_type": "execute_result"
    }
   ],
   "source": [
    "fbeta_score(list(train['outcome']),y_pred_lr,beta=2)"
   ]
  },
  {
   "cell_type": "code",
   "execution_count": 20,
   "id": "banner-string",
   "metadata": {},
   "outputs": [
    {
     "data": {
      "text/plain": [
       "(0.8797814207650273, 0.5278688524590164, 0.5737704918032785, None)"
      ]
     },
     "execution_count": 20,
     "metadata": {},
     "output_type": "execute_result"
    }
   ],
   "source": [
    "precision_recall_fscore_support(list(train['outcome']),y_pred_lr,beta=2,average='binary')"
   ]
  },
  {
   "cell_type": "markdown",
   "id": "refined-portland",
   "metadata": {},
   "source": [
    "Then we define and apply a DT of maximum depth equal to 5, then measure its metrics\n",
    "===="
   ]
  },
  {
   "cell_type": "code",
   "execution_count": 21,
   "id": "alert-cologne",
   "metadata": {},
   "outputs": [],
   "source": [
    "dectree = tree.DecisionTreeClassifier(max_depth=5)"
   ]
  },
  {
   "cell_type": "code",
   "execution_count": 22,
   "id": "chicken-estonia",
   "metadata": {},
   "outputs": [
    {
     "data": {
      "text/plain": [
       "DecisionTreeClassifier(max_depth=5)"
      ]
     },
     "execution_count": 22,
     "metadata": {},
     "output_type": "execute_result"
    }
   ],
   "source": [
    "dectree.fit(train.drop(['paydex_group','siret','periode','outcome','siren','code_naf','time_til_outcome'], axis=1),train['outcome'])"
   ]
  },
  {
   "cell_type": "code",
   "execution_count": 23,
   "id": "growing-content",
   "metadata": {},
   "outputs": [
    {
     "data": {
      "text/plain": [
       "[Text(178.08510638297872, 199.32, 'X[16] <= 0.155\\ngini = 0.258\\nsamples = 2007\\nvalue = [1702, 305]'),\n",
       " Text(96.1659574468085, 163.07999999999998, 'X[13] <= 7226.0\\ngini = 0.137\\nsamples = 1797\\nvalue = [1664, 133]'),\n",
       " Text(56.98723404255319, 126.83999999999999, 'X[26] <= -0.375\\ngini = 0.128\\nsamples = 1780\\nvalue = [1658, 122]'),\n",
       " Text(28.493617021276595, 90.6, 'X[25] <= 1.095\\ngini = 0.306\\nsamples = 265\\nvalue = [215, 50]'),\n",
       " Text(14.246808510638298, 54.359999999999985, 'X[19] <= 2.656\\ngini = 0.272\\nsamples = 252\\nvalue = [211, 41]'),\n",
       " Text(7.123404255319149, 18.119999999999976, 'gini = 0.225\\nsamples = 224\\nvalue = [195, 29]'),\n",
       " Text(21.370212765957447, 18.119999999999976, 'gini = 0.49\\nsamples = 28\\nvalue = [16, 12]'),\n",
       " Text(42.740425531914894, 54.359999999999985, 'X[28] <= 1384.5\\ngini = 0.426\\nsamples = 13\\nvalue = [4, 9]'),\n",
       " Text(35.61702127659574, 18.119999999999976, 'gini = 0.0\\nsamples = 2\\nvalue = [2, 0]'),\n",
       " Text(49.86382978723404, 18.119999999999976, 'gini = 0.298\\nsamples = 11\\nvalue = [2, 9]'),\n",
       " Text(85.48085106382979, 90.6, 'X[33] <= -370.414\\ngini = 0.091\\nsamples = 1515\\nvalue = [1443, 72]'),\n",
       " Text(71.23404255319149, 54.359999999999985, 'X[28] <= 70379.5\\ngini = 0.375\\nsamples = 4\\nvalue = [1, 3]'),\n",
       " Text(64.11063829787234, 18.119999999999976, 'gini = 0.0\\nsamples = 3\\nvalue = [0, 3]'),\n",
       " Text(78.35744680851063, 18.119999999999976, 'gini = 0.0\\nsamples = 1\\nvalue = [1, 0]'),\n",
       " Text(99.72765957446808, 54.359999999999985, 'X[27] <= -31.06\\ngini = 0.087\\nsamples = 1511\\nvalue = [1442, 69]'),\n",
       " Text(92.60425531914893, 18.119999999999976, 'gini = 0.48\\nsamples = 5\\nvalue = [2, 3]'),\n",
       " Text(106.85106382978724, 18.119999999999976, 'gini = 0.084\\nsamples = 1506\\nvalue = [1440, 66]'),\n",
       " Text(135.34468085106383, 126.83999999999999, 'X[20] <= 1.485\\ngini = 0.457\\nsamples = 17\\nvalue = [6, 11]'),\n",
       " Text(121.09787234042552, 90.6, 'X[11] <= 136133.75\\ngini = 0.18\\nsamples = 10\\nvalue = [1, 9]'),\n",
       " Text(113.97446808510638, 54.359999999999985, 'gini = 0.0\\nsamples = 9\\nvalue = [0, 9]'),\n",
       " Text(128.22127659574468, 54.359999999999985, 'gini = 0.0\\nsamples = 1\\nvalue = [1, 0]'),\n",
       " Text(149.59148936170212, 90.6, 'X[0] <= 14.0\\ngini = 0.408\\nsamples = 7\\nvalue = [5, 2]'),\n",
       " Text(142.46808510638297, 54.359999999999985, 'gini = 0.0\\nsamples = 2\\nvalue = [0, 2]'),\n",
       " Text(156.71489361702126, 54.359999999999985, 'gini = 0.0\\nsamples = 5\\nvalue = [5, 0]'),\n",
       " Text(260.0042553191489, 163.07999999999998, 'X[8] <= 10049.92\\ngini = 0.296\\nsamples = 210\\nvalue = [38, 172]'),\n",
       " Text(213.70212765957447, 126.83999999999999, 'X[27] <= 2.01\\ngini = 0.482\\nsamples = 89\\nvalue = [36, 53]'),\n",
       " Text(185.20851063829787, 90.6, 'X[19] <= 0.001\\ngini = 0.39\\nsamples = 49\\nvalue = [13, 36]'),\n",
       " Text(170.96170212765958, 54.359999999999985, 'X[4] <= 18258.5\\ngini = 0.492\\nsamples = 16\\nvalue = [9, 7]'),\n",
       " Text(163.83829787234043, 18.119999999999976, 'gini = 0.298\\nsamples = 11\\nvalue = [9, 2]'),\n",
       " Text(178.08510638297872, 18.119999999999976, 'gini = 0.0\\nsamples = 5\\nvalue = [0, 5]'),\n",
       " Text(199.45531914893616, 54.359999999999985, 'X[18] <= 0.5\\ngini = 0.213\\nsamples = 33\\nvalue = [4, 29]'),\n",
       " Text(192.331914893617, 18.119999999999976, 'gini = 0.444\\nsamples = 3\\nvalue = [2, 1]'),\n",
       " Text(206.57872340425533, 18.119999999999976, 'gini = 0.124\\nsamples = 30\\nvalue = [2, 28]'),\n",
       " Text(242.19574468085105, 90.6, 'X[15] <= 0.998\\ngini = 0.489\\nsamples = 40\\nvalue = [23, 17]'),\n",
       " Text(227.94893617021276, 54.359999999999985, 'X[33] <= -0.005\\ngini = 0.412\\nsamples = 31\\nvalue = [22, 9]'),\n",
       " Text(220.82553191489362, 18.119999999999976, 'gini = 0.245\\nsamples = 7\\nvalue = [1, 6]'),\n",
       " Text(235.0723404255319, 18.119999999999976, 'gini = 0.219\\nsamples = 24\\nvalue = [21, 3]'),\n",
       " Text(256.44255319148937, 54.359999999999985, 'X[6] <= 38077.5\\ngini = 0.198\\nsamples = 9\\nvalue = [1, 8]'),\n",
       " Text(249.3191489361702, 18.119999999999976, 'gini = 0.0\\nsamples = 8\\nvalue = [0, 8]'),\n",
       " Text(263.5659574468085, 18.119999999999976, 'gini = 0.0\\nsamples = 1\\nvalue = [1, 0]'),\n",
       " Text(306.3063829787234, 126.83999999999999, 'X[29] <= 3570.0\\ngini = 0.033\\nsamples = 121\\nvalue = [2, 119]'),\n",
       " Text(292.0595744680851, 90.6, 'X[26] <= -50.215\\ngini = 0.017\\nsamples = 118\\nvalue = [1, 117]'),\n",
       " Text(284.93617021276594, 54.359999999999985, 'X[25] <= 0.095\\ngini = 0.444\\nsamples = 3\\nvalue = [1, 2]'),\n",
       " Text(277.8127659574468, 18.119999999999976, 'gini = 0.0\\nsamples = 2\\nvalue = [0, 2]'),\n",
       " Text(292.0595744680851, 18.119999999999976, 'gini = 0.0\\nsamples = 1\\nvalue = [1, 0]'),\n",
       " Text(299.18297872340423, 54.359999999999985, 'gini = 0.0\\nsamples = 115\\nvalue = [0, 115]'),\n",
       " Text(320.5531914893617, 90.6, 'X[2] <= 72835.0\\ngini = 0.444\\nsamples = 3\\nvalue = [1, 2]'),\n",
       " Text(313.4297872340425, 54.359999999999985, 'gini = 0.0\\nsamples = 1\\nvalue = [1, 0]'),\n",
       " Text(327.67659574468087, 54.359999999999985, 'gini = 0.0\\nsamples = 2\\nvalue = [0, 2]')]"
      ]
     },
     "execution_count": 23,
     "metadata": {},
     "output_type": "execute_result"
    },
    {
     "data": {
      "image/png": "[encoded data removed]",
      "text/plain": [
       "<Figure size 432x288 with 1 Axes>"
      ]
     },
     "metadata": {
      "needs_background": "light"
     },
     "output_type": "display_data"
    }
   ],
   "source": [
    "tree.plot_tree(dectree) "
   ]
  },
  {
   "cell_type": "code",
   "execution_count": 24,
   "id": "intensive-calgary",
   "metadata": {},
   "outputs": [],
   "source": [
    "Y = dectree.predict(test.drop(['paydex_group','siret','periode','outcome','siren','code_naf','time_til_outcome'], axis=1))"
   ]
  },
  {
   "cell_type": "code",
   "execution_count": 25,
   "id": "harmful-updating",
   "metadata": {},
   "outputs": [
    {
     "name": "stdout",
     "output_type": "stream",
     "text": [
      "|--- ratio_dette_moy12m <= 0.15\n",
      "|   |--- montant_part_patronale <= 7226.00\n",
      "|   |   |--- rentabilite_economique <= -0.38\n",
      "|   |   |   |--- productivite_capital_investi <= 1.10\n",
      "|   |   |   |   |--- financier_court_terme <= 2.66\n",
      "|   |   |   |   |   |--- class: False\n",
      "|   |   |   |   |--- financier_court_terme >  2.66\n",
      "|   |   |   |   |   |--- class: False\n",
      "|   |   |   |--- productivite_capital_investi >  1.10\n",
      "|   |   |   |   |--- paydex_yoy <= 0.50\n",
      "|   |   |   |   |   |--- class: True\n",
      "|   |   |   |   |--- paydex_yoy >  0.50\n",
      "|   |   |   |   |   |--- class: False\n",
      "|   |   |--- rentabilite_economique >  -0.38\n",
      "|   |   |   |--- avg_delta_dette_par_effectif <= -370.41\n",
      "|   |   |   |   |--- rentabilite_economique <= 8.44\n",
      "|   |   |   |   |   |--- class: True\n",
      "|   |   |   |   |--- rentabilite_economique >  8.44\n",
      "|   |   |   |   |   |--- class: False\n",
      "|   |   |   |--- avg_delta_dette_par_effectif >  -370.41\n",
      "|   |   |   |   |--- rentabilite_nette <= -31.06\n",
      "|   |   |   |   |   |--- class: True\n",
      "|   |   |   |   |--- rentabilite_nette >  -31.06\n",
      "|   |   |   |   |   |--- class: False\n",
      "|   |--- montant_part_patronale >  7226.00\n",
      "|   |   |--- equilibre_financier <= 1.49\n",
      "|   |   |   |--- ca <= 517432.00\n",
      "|   |   |   |   |--- class: True\n",
      "|   |   |   |--- ca >  517432.00\n",
      "|   |   |   |   |--- class: False\n",
      "|   |   |--- equilibre_financier >  1.49\n",
      "|   |   |   |--- ca <= 6808.00\n",
      "|   |   |   |   |--- class: True\n",
      "|   |   |   |--- ca >  6808.00\n",
      "|   |   |   |   |--- class: False\n",
      "|--- ratio_dette_moy12m >  0.15\n",
      "|   |--- montant_part_patronale_past_2 <= 10049.92\n",
      "|   |   |--- rentabilite_nette <= 2.01\n",
      "|   |   |   |--- financier_court_terme <= 0.00\n",
      "|   |   |   |   |--- montant_part_patronale_past_6 <= 18258.50\n",
      "|   |   |   |   |   |--- class: False\n",
      "|   |   |   |   |--- montant_part_patronale_past_6 >  18258.50\n",
      "|   |   |   |   |   |--- class: True\n",
      "|   |   |   |--- financier_court_terme >  0.00\n",
      "|   |   |   |   |--- paydex_nb_jours_past_12 <= 0.50\n",
      "|   |   |   |   |   |--- class: False\n",
      "|   |   |   |   |--- paydex_nb_jours_past_12 >  0.50\n",
      "|   |   |   |   |   |--- class: True\n",
      "|   |   |--- rentabilite_nette >  2.01\n",
      "|   |   |   |--- ratio_dette <= 1.00\n",
      "|   |   |   |   |--- avg_delta_dette_par_effectif <= -0.00\n",
      "|   |   |   |   |   |--- class: True\n",
      "|   |   |   |   |--- avg_delta_dette_par_effectif >  -0.00\n",
      "|   |   |   |   |   |--- class: False\n",
      "|   |   |   |--- ratio_dette >  1.00\n",
      "|   |   |   |   |--- productivite_capital_investi <= 1.73\n",
      "|   |   |   |   |   |--- class: True\n",
      "|   |   |   |   |--- productivite_capital_investi >  1.73\n",
      "|   |   |   |   |   |--- class: False\n",
      "|   |--- montant_part_patronale_past_2 >  10049.92\n",
      "|   |   |--- interets <= 3570.00\n",
      "|   |   |   |--- rentabilite_economique <= -50.22\n",
      "|   |   |   |   |--- interets <= 5.50\n",
      "|   |   |   |   |   |--- class: True\n",
      "|   |   |   |   |--- interets >  5.50\n",
      "|   |   |   |   |   |--- class: False\n",
      "|   |   |   |--- rentabilite_economique >  -50.22\n",
      "|   |   |   |   |--- class: True\n",
      "|   |   |--- interets >  3570.00\n",
      "|   |   |   |--- liquidite_reduite <= 0.58\n",
      "|   |   |   |   |--- class: True\n",
      "|   |   |   |--- liquidite_reduite >  0.58\n",
      "|   |   |   |   |--- class: False\n",
      "\n"
     ]
    }
   ],
   "source": [
    "decision_tree = tree.DecisionTreeClassifier(random_state=0, max_depth=5)\n",
    "decision_tree = decision_tree.fit(train.drop(['paydex_group','siret','periode','outcome','siren','code_naf','time_til_outcome'], axis=1), train['outcome'])\n",
    "r = tree.export_text(decision_tree, feature_names=list(train.drop(['paydex_group','siret','periode','outcome','siren','code_naf','time_til_outcome'], axis=1).columns))\n",
    "print(r)"
   ]
  },
  {
   "cell_type": "code",
   "execution_count": 26,
   "id": "egyptian-produce",
   "metadata": {},
   "outputs": [],
   "source": [
    "y_pred_dt = dectree.predict(train.drop(['paydex_group','siret','periode','outcome','siren','code_naf','time_til_outcome'], axis=1))"
   ]
  },
  {
   "cell_type": "code",
   "execution_count": 27,
   "id": "novel-replica",
   "metadata": {},
   "outputs": [
    {
     "data": {
      "text/plain": [
       "array([[1695,    7],\n",
       "       [ 113,  192]])"
      ]
     },
     "execution_count": 27,
     "metadata": {},
     "output_type": "execute_result"
    }
   ],
   "source": [
    "confusion_matrix(list(train['outcome']),y_pred_dt)"
   ]
  },
  {
   "cell_type": "code",
   "execution_count": 28,
   "id": "cordless-queensland",
   "metadata": {},
   "outputs": [
    {
     "data": {
      "text/plain": [
       "0.8126976941303385"
      ]
     },
     "execution_count": 28,
     "metadata": {},
     "output_type": "execute_result"
    }
   ],
   "source": [
    "balanced_accuracy_score(list(train['outcome']),y_pred_dt)"
   ]
  },
  {
   "cell_type": "code",
   "execution_count": 29,
   "id": "removable-algeria",
   "metadata": {},
   "outputs": [
    {
     "data": {
      "text/plain": [
       "0.6765327695560254"
      ]
     },
     "execution_count": 29,
     "metadata": {},
     "output_type": "execute_result"
    }
   ],
   "source": [
    "fbeta_score(list(train['outcome']),y_pred_dt,beta=2)"
   ]
  },
  {
   "cell_type": "code",
   "execution_count": 30,
   "id": "coastal-organization",
   "metadata": {},
   "outputs": [
    {
     "data": {
      "text/plain": [
       "(0.964824120603015, 0.6295081967213115, 0.6765327695560254, None)"
      ]
     },
     "execution_count": 30,
     "metadata": {},
     "output_type": "execute_result"
    }
   ],
   "source": [
    "precision_recall_fscore_support(list(train['outcome']),y_pred_dt,beta=2,average='binary')"
   ]
  },
  {
   "cell_type": "markdown",
   "id": "practical-montgomery",
   "metadata": {},
   "source": [
    "Then we define and apply a SVM, then measure its metrics\n",
    "===="
   ]
  },
  {
   "cell_type": "code",
   "execution_count": 43,
   "id": "laden-poison",
   "metadata": {},
   "outputs": [],
   "source": [
    "SVM = make_pipeline(StandardScaler(), SVC(kernel='linear'))"
   ]
  },
  {
   "cell_type": "code",
   "execution_count": 44,
   "id": "north-making",
   "metadata": {},
   "outputs": [
    {
     "data": {
      "text/plain": [
       "Pipeline(steps=[('standardscaler', StandardScaler()),\n",
       "                ('svc', SVC(kernel='linear'))])"
      ]
     },
     "execution_count": 44,
     "metadata": {},
     "output_type": "execute_result"
    }
   ],
   "source": [
    "SVM.fit(train.drop(['paydex_group','siret','periode','outcome','siren','code_naf','time_til_outcome'], axis=1),train['outcome'])"
   ]
  },
  {
   "cell_type": "code",
   "execution_count": 45,
   "id": "dental-milan",
   "metadata": {},
   "outputs": [],
   "source": [
    "y_pred_svm = SVM.predict(train.drop(['paydex_group','siret','periode','outcome','siren','code_naf','time_til_outcome'], axis=1))"
   ]
  },
  {
   "cell_type": "code",
   "execution_count": 46,
   "id": "complex-assault",
   "metadata": {},
   "outputs": [
    {
     "data": {
      "text/plain": [
       "array([[1689,   13],\n",
       "       [ 161,  144]])"
      ]
     },
     "execution_count": 46,
     "metadata": {},
     "output_type": "execute_result"
    }
   ],
   "source": [
    "confusion_matrix(list(train['outcome']),y_pred_svm)"
   ]
  },
  {
   "cell_type": "code",
   "execution_count": 47,
   "id": "after-interface",
   "metadata": {},
   "outputs": [
    {
     "data": {
      "text/plain": [
       "0.7322465373427598"
      ]
     },
     "execution_count": 47,
     "metadata": {},
     "output_type": "execute_result"
    }
   ],
   "source": [
    "balanced_accuracy_score(list(train['outcome']),y_pred_svm)"
   ]
  },
  {
   "cell_type": "code",
   "execution_count": 48,
   "id": "passing-barbados",
   "metadata": {},
   "outputs": [
    {
     "data": {
      "text/plain": [
       "(0.9171974522292994, 0.4721311475409836, 0.522875816993464, None)"
      ]
     },
     "execution_count": 48,
     "metadata": {},
     "output_type": "execute_result"
    }
   ],
   "source": [
    "precision_recall_fscore_support(list(train['outcome']),y_pred_svm,beta=2,average='binary')"
   ]
  },
  {
   "cell_type": "markdown",
   "id": "adolescent-growth",
   "metadata": {},
   "source": [
    "Then we define and apply a RF of maximum depth equal to 5, then measure its metrics\n",
    "===="
   ]
  },
  {
   "cell_type": "code",
   "execution_count": 53,
   "id": "annual-chinese",
   "metadata": {},
   "outputs": [],
   "source": [
    "RF = RandomForestClassifier(max_depth=5, random_state=0)"
   ]
  },
  {
   "cell_type": "code",
   "execution_count": 54,
   "id": "israeli-quilt",
   "metadata": {},
   "outputs": [
    {
     "data": {
      "text/plain": [
       "RandomForestClassifier(max_depth=5, random_state=0)"
      ]
     },
     "execution_count": 54,
     "metadata": {},
     "output_type": "execute_result"
    }
   ],
   "source": [
    "RF.fit(train.drop(['paydex_group','siret','periode','outcome','siren','code_naf','time_til_outcome'], axis=1),train['outcome'])"
   ]
  },
  {
   "cell_type": "code",
   "execution_count": 58,
   "id": "alike-vietnamese",
   "metadata": {},
   "outputs": [],
   "source": [
    "y_pred_rf = RF.predict(train.drop(['paydex_group','siret','periode','outcome','siren','code_naf','time_til_outcome'], axis=1))"
   ]
  },
  {
   "cell_type": "code",
   "execution_count": 59,
   "id": "fitting-bacteria",
   "metadata": {},
   "outputs": [
    {
     "data": {
      "text/plain": [
       "array([[1699,    3],\n",
       "       [ 130,  175]])"
      ]
     },
     "execution_count": 59,
     "metadata": {},
     "output_type": "execute_result"
    }
   ],
   "source": [
    "confusion_matrix(list(train['outcome']),y_pred_rf)"
   ]
  },
  {
   "cell_type": "code",
   "execution_count": 60,
   "id": "martial-platform",
   "metadata": {},
   "outputs": [
    {
     "data": {
      "text/plain": [
       "0.786003929802932"
      ]
     },
     "execution_count": 60,
     "metadata": {},
     "output_type": "execute_result"
    }
   ],
   "source": [
    "balanced_accuracy_score(list(train['outcome']),y_pred_rf)"
   ]
  },
  {
   "cell_type": "code",
   "execution_count": 61,
   "id": "incredible-equipment",
   "metadata": {},
   "outputs": [
    {
     "data": {
      "text/plain": [
       "(0.9831460674157303, 0.5737704918032787, 0.6258941344778254, None)"
      ]
     },
     "execution_count": 61,
     "metadata": {},
     "output_type": "execute_result"
    }
   ],
   "source": [
    "precision_recall_fscore_support(list(train['outcome']),y_pred_rf,beta=2,average='binary')"
   ]
  },
  {
   "cell_type": "markdown",
   "id": "considered-mexico",
   "metadata": {},
   "source": [
    "Then we define and apply a GB, then measure its metrics\n",
    "===="
   ]
  },
  {
   "cell_type": "code",
   "execution_count": 87,
   "id": "living-regard",
   "metadata": {},
   "outputs": [],
   "source": [
    "GB = GradientBoostingClassifier(n_estimators=100, learning_rate=1.0,max_depth=2, random_state=0)"
   ]
  },
  {
   "cell_type": "code",
   "execution_count": 88,
   "id": "adjusted-timing",
   "metadata": {},
   "outputs": [
    {
     "data": {
      "text/plain": [
       "GradientBoostingClassifier(learning_rate=1.0, max_depth=2, random_state=0)"
      ]
     },
     "execution_count": 88,
     "metadata": {},
     "output_type": "execute_result"
    }
   ],
   "source": [
    "GB.fit(train.drop(['paydex_group','siret','periode','outcome','siren','code_naf','time_til_outcome'], axis=1),train['outcome'])"
   ]
  },
  {
   "cell_type": "code",
   "execution_count": 89,
   "id": "unlikely-easter",
   "metadata": {},
   "outputs": [],
   "source": [
    "y_pred_gb = GB.predict(train.drop(['paydex_group','siret','periode','outcome','siren','code_naf','time_til_outcome'], axis=1))"
   ]
  },
  {
   "cell_type": "code",
   "execution_count": 90,
   "id": "mexican-making",
   "metadata": {},
   "outputs": [
    {
     "data": {
      "text/plain": [
       "array([[1696,    6],\n",
       "       [  55,  250]])"
      ]
     },
     "execution_count": 90,
     "metadata": {},
     "output_type": "execute_result"
    }
   ],
   "source": [
    "confusion_matrix(list(train['outcome']),y_pred_gb)"
   ]
  },
  {
   "cell_type": "code",
   "execution_count": 91,
   "id": "described-pledge",
   "metadata": {},
   "outputs": [
    {
     "data": {
      "text/plain": [
       "0.9080734333763557"
      ]
     },
     "execution_count": 91,
     "metadata": {},
     "output_type": "execute_result"
    }
   ],
   "source": [
    "balanced_accuracy_score(list(train['outcome']),y_pred_gb)"
   ]
  },
  {
   "cell_type": "code",
   "execution_count": 92,
   "id": "united-welding",
   "metadata": {},
   "outputs": [
    {
     "data": {
      "text/plain": [
       "(0.9765625, 0.819672131147541, 0.8468834688346883, None)"
      ]
     },
     "execution_count": 92,
     "metadata": {},
     "output_type": "execute_result"
    }
   ],
   "source": [
    "precision_recall_fscore_support(list(train['outcome']),y_pred_gb,beta=2,average='binary')"
   ]
  },
  {
   "cell_type": "code",
   "execution_count": null,
   "id": "developmental-things",
   "metadata": {},
   "outputs": [],
   "source": []
  }
 ],
 "metadata": {
  "kernelspec": {
   "display_name": "sf",
   "language": "python",
   "name": "sf"
  },
  "language_info": {
   "codemirror_mode": {
    "name": "ipython",
    "version": 3
   },
   "file_extension": ".py",
   "mimetype": "text/x-python",
   "name": "python",
   "nbconvert_exporter": "python",
   "pygments_lexer": "ipython3",
   "version": "3.6.8"
  }
 },
 "nbformat": 4,
 "nbformat_minor": 5
}
