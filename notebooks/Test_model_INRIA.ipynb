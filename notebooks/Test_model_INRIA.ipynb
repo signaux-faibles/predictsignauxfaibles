{
 "cells": [
  {
   "cell_type": "code",
   "execution_count": null,
   "id": "sweet-charter",
   "metadata": {},
   "outputs": [],
   "source": [
    "%config Completer.use_jedi = False"
   ]
  },
  {
   "cell_type": "code",
   "execution_count": null,
   "id": "animated-spelling",
   "metadata": {},
   "outputs": [],
   "source": [
    "from pathlib import Path\n",
    "import importlib.util\n",
    "\n",
    "import logging\n",
    "logging.getLogger().setLevel(logging.INFO)\n",
    "\n",
    "from sklearn import tree\n",
    "from sklearn.base import BaseEstimator\n",
    "from sklearn.linear_model import LogisticRegression\n",
    "\n",
    "from sklearn.pipeline import Pipeline\n",
    "from sklearn.preprocessing import OneHotEncoder, StandardScaler\n",
    "from sklearn.model_selection import train_test_split\n",
    "from sklearn.metrics import fbeta_score, balanced_accuracy_score\n",
    "from sklearn_pandas import DataFrameMapper\n",
    "\n",
    "import pandas as pd\n",
    "\n",
    "import predictsignauxfaibles.models\n",
    "from predictsignauxfaibles.data import SFDataset\n",
    "from predictsignauxfaibles.config import OUTPUT_FOLDER, IGNORE_NA\n",
    "from predictsignauxfaibles.pipelines import run_pipeline\n",
    "from predictsignauxfaibles.utils import load_conf"
   ]
  },
  {
   "cell_type": "code",
   "execution_count": null,
   "id": "brazilian-footage",
   "metadata": {},
   "outputs": [],
   "source": [
    "conf = load_conf(\"default\")"
   ]
  },
  {
   "cell_type": "code",
   "execution_count": null,
   "id": "completed-traveler",
   "metadata": {},
   "outputs": [],
   "source": [
    "train = conf.TRAIN_DATASET\n",
    "train.sample_size = 1e4\n",
    "\n",
    "test = conf.TEST_DATASET\n",
    "test.sample_size = 1e4"
   ]
  },
  {
   "cell_type": "code",
   "execution_count": null,
   "id": "impressive-entry",
   "metadata": {},
   "outputs": [],
   "source": [
    "savepath = None # change it to be a filepath if you wish to save train and test data locally\n",
    "\n",
    "train.fetch_data().raise_if_empty()\n",
    "test.fetch_data().raise_if_empty()\n",
    "logging.info(\"Succesfully loaded Features data from MongoDB\")\n",
    "\n",
    "if savepath is not None:\n",
    "    train.data.to_csv(f\"{savepath}_train.csv\")\n",
    "    test.data.to_csv(f\"{savepath}_test.csv\")\n",
    "    logging.info(f\"Saved Features extract to {savepath}\")"
   ]
  },
  {
   "cell_type": "code",
   "execution_count": null,
   "id": "modular-intranet",
   "metadata": {},
   "outputs": [],
   "source": [
    "train_siren_set = train.data[\"siren\"].unique().tolist()\n",
    "test.remove_siren(train_siren_set)"
   ]
  },
  {
   "cell_type": "code",
   "execution_count": null,
   "id": "authorized-closing",
   "metadata": {},
   "outputs": [],
   "source": [
    "train.replace_missing_data().remove_na(ignore=IGNORE_NA)\n",
    "train.data = run_pipeline(train.data, conf.TRANSFO_PIPELINE)\n",
    "\n",
    "test.replace_missing_data().remove_na(ignore=IGNORE_NA)\n",
    "test.data = run_pipeline(test.data, conf.TRANSFO_PIPELINE)"
   ]
  },
  {
   "cell_type": "code",
   "execution_count": null,
   "id": "raised-discrimination",
   "metadata": {},
   "outputs": [],
   "source": [
    "train.data"
   ]
  },
  {
   "cell_type": "code",
   "execution_count": null,
   "id": "threatened-motorcycle",
   "metadata": {},
   "outputs": [],
   "source": [
    "train = train.data"
   ]
  },
  {
   "cell_type": "code",
   "execution_count": null,
   "id": "certified-headset",
   "metadata": {},
   "outputs": [],
   "source": [
    "test = test.data"
   ]
  },
  {
   "cell_type": "code",
   "execution_count": null,
   "id": "correct-motor",
   "metadata": {},
   "outputs": [],
   "source": [
    "train.loc[train['outcome']==False].isnull().sum()"
   ]
  },
  {
   "cell_type": "code",
   "execution_count": null,
   "id": "seven-coating",
   "metadata": {},
   "outputs": [],
   "source": [
    "train.drop(['paydex_group','siret','periode','outcome','siren','code_naf','time_til_outcome'], axis=1)"
   ]
  },
  {
   "cell_type": "code",
   "execution_count": null,
   "id": "biological-investor",
   "metadata": {},
   "outputs": [],
   "source": [
    "logreg = LogisticRegression()"
   ]
  },
  {
   "cell_type": "code",
   "execution_count": null,
   "id": "incorporate-vampire",
   "metadata": {},
   "outputs": [],
   "source": [
    "logreg.fit(train.drop(['paydex_group','siret','periode','outcome','siren','code_naf','time_til_outcome'], axis=1),train['outcome'])"
   ]
  },
  {
   "cell_type": "code",
   "execution_count": null,
   "id": "greatest-caution",
   "metadata": {},
   "outputs": [],
   "source": [
    "test['outcome'] = logreg.predict(test.drop(['paydex_group','siret','periode','outcome','siren','code_naf','time_til_outcome'], axis=1))"
   ]
  },
  {
   "cell_type": "code",
   "execution_count": null,
   "id": "coral-conjunction",
   "metadata": {},
   "outputs": [],
   "source": [
    "train.loc[train['outcome']==True]"
   ]
  },
  {
   "cell_type": "code",
   "execution_count": null,
   "id": "adjustable-combine",
   "metadata": {},
   "outputs": [],
   "source": [
    "train.shape"
   ]
  },
  {
   "cell_type": "code",
   "execution_count": null,
   "id": "bored-liver",
   "metadata": {},
   "outputs": [],
   "source": [
    "dectree = tree.DecisionTreeClassifier(max_depth=5)"
   ]
  },
  {
   "cell_type": "code",
   "execution_count": null,
   "id": "compatible-chase",
   "metadata": {},
   "outputs": [],
   "source": [
    "dectree.fit(train.drop(['paydex_group','siret','periode','outcome','siren','code_naf','time_til_outcome'], axis=1),train['outcome'])"
   ]
  },
  {
   "cell_type": "code",
   "execution_count": null,
   "id": "waiting-throat",
   "metadata": {},
   "outputs": [],
   "source": [
    "tree.plot_tree(dectree) "
   ]
  },
  {
   "cell_type": "code",
   "execution_count": null,
   "id": "prime-herald",
   "metadata": {},
   "outputs": [],
   "source": [
    "Y = dectree.predict(test.drop(['paydex_group','siret','periode','outcome','siren','code_naf','time_til_outcome'], axis=1))"
   ]
  },
  {
   "cell_type": "code",
   "execution_count": null,
   "id": "traditional-study",
   "metadata": {},
   "outputs": [],
   "source": [
    "decision_tree = tree.DecisionTreeClassifier(random_state=0, max_depth=5)\n",
    "decision_tree = decision_tree.fit(train.drop(['paydex_group','siret','periode','outcome','siren','code_naf','time_til_outcome'], axis=1), train['outcome'])\n",
    "r = tree.export_text(decision_tree, feature_names=list(train.drop(['paydex_group','siret','periode','outcome','siren','code_naf','time_til_outcome'], axis=1).columns))\n",
    "print(r)"
   ]
  },
  {
   "cell_type": "code",
   "execution_count": null,
   "id": "laughing-georgia",
   "metadata": {},
   "outputs": [],
   "source": []
  }
 ],
 "metadata": {
  "kernelspec": {
   "display_name": "sf",
   "language": "python",
   "name": "sf"
  },
  "language_info": {
   "codemirror_mode": {
    "name": "ipython",
    "version": 3
   },
   "file_extension": ".py",
   "mimetype": "text/x-python",
   "name": "python",
   "nbconvert_exporter": "python",
   "pygments_lexer": "ipython3",
   "version": "3.6.8"
  }
 },
 "nbformat": 4,
 "nbformat_minor": 5
}
