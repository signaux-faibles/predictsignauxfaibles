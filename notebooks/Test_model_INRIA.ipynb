{
 "cells": [
  {
   "cell_type": "code",
   "execution_count": null,
   "id": "assured-flexibility",
   "metadata": {},
   "outputs": [],
   "source": [
    "%config Completer.use_jedi = False"
   ]
  },
  {
   "cell_type": "markdown",
   "id": "accessory-louis",
   "metadata": {},
   "source": [
    "We import the different things we need, then we pre-process the data such as in the training notebook\n",
    "==="
   ]
  },
  {
   "cell_type": "code",
   "execution_count": null,
   "id": "committed-contract",
   "metadata": {},
   "outputs": [],
   "source": [
    "from pathlib import Path\n",
    "import importlib.util\n",
    "\n",
    "import logging\n",
    "logging.getLogger().setLevel(logging.INFO)\n",
    "\n",
    "from sklearn import tree\n",
    "from sklearn.base import BaseEstimator\n",
    "from sklearn.linear_model import LogisticRegression\n",
    "\n",
    "from sklearn.pipeline import Pipeline\n",
    "from sklearn.preprocessing import OneHotEncoder, StandardScaler\n",
    "from sklearn.model_selection import train_test_split\n",
    "from sklearn.metrics import fbeta_score, balanced_accuracy_score, confusion_matrix, precision_recall_fscore_support\n",
    "from sklearn_pandas import DataFrameMapper\n",
    "\n",
    "from sklearn.pipeline import make_pipeline\n",
    "from sklearn.preprocessing import StandardScaler\n",
    "from sklearn.svm import SVC\n",
    "\n",
    "import pandas as pd\n",
    "\n",
    "import predictsignauxfaibles.models\n",
    "from predictsignauxfaibles.data import SFDataset\n",
    "from predictsignauxfaibles.config import OUTPUT_FOLDER, IGNORE_NA\n",
    "from predictsignauxfaibles.pipelines import run_pipeline\n",
    "from predictsignauxfaibles.utils import load_conf"
   ]
  },
  {
   "cell_type": "code",
   "execution_count": null,
   "id": "computational-bracelet",
   "metadata": {},
   "outputs": [],
   "source": [
    "conf = load_conf(\"default\")"
   ]
  },
  {
   "cell_type": "code",
   "execution_count": null,
   "id": "fleet-grain",
   "metadata": {},
   "outputs": [],
   "source": [
    "train = conf.TRAIN_DATASET\n",
    "train.sample_size = 1e4\n",
    "\n",
    "test = conf.TEST_DATASET\n",
    "test.sample_size = 1e4"
   ]
  },
  {
   "cell_type": "code",
   "execution_count": null,
   "id": "engaging-communist",
   "metadata": {},
   "outputs": [],
   "source": [
    "savepath = None # change it to be a filepath if you wish to save train and test data locally\n",
    "\n",
    "train.fetch_data().raise_if_empty()\n",
    "test.fetch_data().raise_if_empty()\n",
    "logging.info(\"Succesfully loaded Features data from MongoDB\")\n",
    "\n",
    "if savepath is not None:\n",
    "    train.data.to_csv(f\"{savepath}_train.csv\")\n",
    "    test.data.to_csv(f\"{savepath}_test.csv\")\n",
    "    logging.info(f\"Saved Features extract to {savepath}\")"
   ]
  },
  {
   "cell_type": "code",
   "execution_count": null,
   "id": "italian-mambo",
   "metadata": {},
   "outputs": [],
   "source": [
    "train_siren_set = train.data[\"siren\"].unique().tolist()\n",
    "test.remove_siren(train_siren_set)"
   ]
  },
  {
   "cell_type": "code",
   "execution_count": null,
   "id": "joint-knife",
   "metadata": {},
   "outputs": [],
   "source": [
    "train.replace_missing_data().remove_na(ignore=IGNORE_NA)\n",
    "train.data = run_pipeline(train.data, conf.TRANSFO_PIPELINE)\n",
    "\n",
    "test.replace_missing_data().remove_na(ignore=IGNORE_NA)\n",
    "test.data = run_pipeline(test.data, conf.TRANSFO_PIPELINE)"
   ]
  },
  {
   "cell_type": "code",
   "execution_count": null,
   "id": "federal-holmes",
   "metadata": {},
   "outputs": [],
   "source": [
    "train.data"
   ]
  },
  {
   "cell_type": "code",
   "execution_count": null,
   "id": "moving-rating",
   "metadata": {},
   "outputs": [],
   "source": [
    "train = train.data"
   ]
  },
  {
   "cell_type": "code",
   "execution_count": null,
   "id": "saving-looking",
   "metadata": {},
   "outputs": [],
   "source": [
    "test = test.data"
   ]
  },
  {
   "cell_type": "code",
   "execution_count": null,
   "id": "turkish-minutes",
   "metadata": {},
   "outputs": [],
   "source": [
    "train.loc[train['outcome']==False].isnull().sum()"
   ]
  },
  {
   "cell_type": "code",
   "execution_count": null,
   "id": "sharp-price",
   "metadata": {},
   "outputs": [],
   "source": [
    "train.drop(['paydex_group','siret','periode','outcome','siren','code_naf','time_til_outcome'], axis=1)"
   ]
  },
  {
   "cell_type": "markdown",
   "id": "afraid-threshold",
   "metadata": {},
   "source": [
    "We first define and apply a LR, then measure its different metrics\n",
    "==="
   ]
  },
  {
   "cell_type": "code",
   "execution_count": null,
   "id": "aggregate-russian",
   "metadata": {},
   "outputs": [],
   "source": [
    "logreg = LogisticRegression()"
   ]
  },
  {
   "cell_type": "code",
   "execution_count": null,
   "id": "confirmed-solution",
   "metadata": {},
   "outputs": [],
   "source": [
    "logreg.fit(train.drop(['paydex_group','siret','periode','outcome','siren','code_naf','time_til_outcome'], axis=1),train['outcome'])"
   ]
  },
  {
   "cell_type": "code",
   "execution_count": null,
   "id": "bored-shakespeare",
   "metadata": {},
   "outputs": [],
   "source": [
    "test['outcome'] = logreg.predict(test.drop(['paydex_group','siret','periode','outcome','siren','code_naf','time_til_outcome'], axis=1))"
   ]
  },
  {
   "cell_type": "code",
   "execution_count": null,
   "id": "sunset-xerox",
   "metadata": {},
   "outputs": [],
   "source": [
    "y_pred_lr = logreg.predict(train.drop(['paydex_group','siret','periode','outcome','siren','code_naf','time_til_outcome'], axis=1))"
   ]
  },
  {
   "cell_type": "code",
   "execution_count": null,
   "id": "virgin-script",
   "metadata": {},
   "outputs": [],
   "source": [
    "confusion_matrix(list(train['outcome']),y_pred_lr)"
   ]
  },
  {
   "cell_type": "code",
   "execution_count": null,
   "id": "stable-addiction",
   "metadata": {},
   "outputs": [],
   "source": [
    "balanced_accuracy_score(list(train['outcome']),y_pred_lr)"
   ]
  },
  {
   "cell_type": "code",
   "execution_count": null,
   "id": "australian-tiger",
   "metadata": {},
   "outputs": [],
   "source": [
    "fbeta_score(list(train['outcome']),y_pred_lr,beta=2)"
   ]
  },
  {
   "cell_type": "markdown",
   "id": "appointed-discharge",
   "metadata": {},
   "source": [
    "Then we define and apply a DT of maximum depth equal to 5, then measure its metrics\n",
    "===="
   ]
  },
  {
   "cell_type": "code",
   "execution_count": null,
   "id": "completed-twist",
   "metadata": {},
   "outputs": [],
   "source": [
    "dectree = tree.DecisionTreeClassifier(max_depth=5)"
   ]
  },
  {
   "cell_type": "code",
   "execution_count": null,
   "id": "apparent-indianapolis",
   "metadata": {},
   "outputs": [],
   "source": [
    "dectree.fit(train.drop(['paydex_group','siret','periode','outcome','siren','code_naf','time_til_outcome'], axis=1),train['outcome'])"
   ]
  },
  {
   "cell_type": "code",
   "execution_count": null,
   "id": "parallel-chocolate",
   "metadata": {},
   "outputs": [],
   "source": [
    "tree.plot_tree(dectree) "
   ]
  },
  {
   "cell_type": "code",
   "execution_count": null,
   "id": "several-bowling",
   "metadata": {},
   "outputs": [],
   "source": [
    "Y = dectree.predict(test.drop(['paydex_group','siret','periode','outcome','siren','code_naf','time_til_outcome'], axis=1))"
   ]
  },
  {
   "cell_type": "code",
   "execution_count": null,
   "id": "private-ability",
   "metadata": {},
   "outputs": [],
   "source": [
    "decision_tree = tree.DecisionTreeClassifier(random_state=0, max_depth=5)\n",
    "decision_tree = decision_tree.fit(train.drop(['paydex_group','siret','periode','outcome','siren','code_naf','time_til_outcome'], axis=1), train['outcome'])\n",
    "r = tree.export_text(decision_tree, feature_names=list(train.drop(['paydex_group','siret','periode','outcome','siren','code_naf','time_til_outcome'], axis=1).columns))\n",
    "print(r)"
   ]
  },
  {
   "cell_type": "code",
   "execution_count": null,
   "id": "virtual-carbon",
   "metadata": {},
   "outputs": [],
   "source": [
    "y_pred_dt = dectree.predict(train.drop(['paydex_group','siret','periode','outcome','siren','code_naf','time_til_outcome'], axis=1))"
   ]
  },
  {
   "cell_type": "code",
   "execution_count": null,
   "id": "agreed-jesus",
   "metadata": {},
   "outputs": [],
   "source": [
    "confusion_matrix(list(train['outcome']),y_pred_dt)"
   ]
  },
  {
   "cell_type": "code",
   "execution_count": null,
   "id": "alive-violence",
   "metadata": {},
   "outputs": [],
   "source": [
    "balanced_accuracy_score(list(train['outcome']),y_pred_dt)"
   ]
  },
  {
   "cell_type": "code",
   "execution_count": null,
   "id": "equipped-acting",
   "metadata": {},
   "outputs": [],
   "source": [
    "fbeta_score(list(train['outcome']),y_pred_dt,beta=2)"
   ]
  },
  {
   "cell_type": "code",
   "execution_count": null,
   "id": "running-cooperation",
   "metadata": {},
   "outputs": [],
   "source": [
    "precision_recall_fscore_support(list(train['outcome']),y_pred_dt,beta=2,average='binary')"
   ]
  },
  {
   "cell_type": "markdown",
   "id": "micro-medicine",
   "metadata": {},
   "source": [
    "Then we define and apply a DT of maximum depth equal to 5, then measure its metrics\n",
    "===="
   ]
  },
  {
   "cell_type": "code",
   "execution_count": null,
   "id": "other-physics",
   "metadata": {},
   "outputs": [],
   "source": [
    "SVM = make_pipeline(StandardScaler(), SVC())"
   ]
  },
  {
   "cell_type": "code",
   "execution_count": null,
   "id": "affected-skiing",
   "metadata": {},
   "outputs": [],
   "source": [
    "SVM.fit(train.drop(['paydex_group','siret','periode','outcome','siren','code_naf','time_til_outcome'], axis=1),train['outcome'])"
   ]
  },
  {
   "cell_type": "code",
   "execution_count": null,
   "id": "prospective-international",
   "metadata": {},
   "outputs": [],
   "source": [
    "y_pred_svm = SVM.predict(train.drop(['paydex_group','siret','periode','outcome','siren','code_naf','time_til_outcome'], axis=1))"
   ]
  },
  {
   "cell_type": "code",
   "execution_count": null,
   "id": "prescription-interim",
   "metadata": {},
   "outputs": [],
   "source": [
    "confusion_matrix(list(train['outcome']),y_pred_svm)"
   ]
  },
  {
   "cell_type": "code",
   "execution_count": null,
   "id": "gothic-impossible",
   "metadata": {},
   "outputs": [],
   "source": [
    "balanced_accuracy_score(list(train['outcome']),y_pred_svm)"
   ]
  },
  {
   "cell_type": "code",
   "execution_count": null,
   "id": "brief-minister",
   "metadata": {},
   "outputs": [],
   "source": [
    "precision_recall_fscore_support(list(train['outcome']),y_pred_svm,beta=2,average='binary')"
   ]
  },
  {
   "cell_type": "code",
   "execution_count": null,
   "id": "tropical-suicide",
   "metadata": {},
   "outputs": [],
   "source": []
  }
 ],
 "metadata": {
  "kernelspec": {
   "display_name": "sf",
   "language": "python",
   "name": "sf"
  },
  "language_info": {
   "codemirror_mode": {
    "name": "ipython",
    "version": 3
   },
   "file_extension": ".py",
   "mimetype": "text/x-python",
   "name": "python",
   "nbconvert_exporter": "python",
   "pygments_lexer": "ipython3",
   "version": "3.6.8"
  }
 },
 "nbformat": 4,
 "nbformat_minor": 5
}
